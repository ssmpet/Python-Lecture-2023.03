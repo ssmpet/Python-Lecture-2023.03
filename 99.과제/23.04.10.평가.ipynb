{
 "cells": [
  {
   "cell_type": "code",
   "execution_count": 16,
   "metadata": {},
   "outputs": [
    {
     "name": "stdout",
     "output_type": "stream",
     "text": [
      "1 ~ 100까지 3의 배수의 합 : 1683\n"
     ]
    }
   ],
   "source": [
    "# 1 ~ 100 : 3의 배수의 합\n",
    "mul_sum = 0\n",
    "for num in range(1, 101):\n",
    "    if num % 3 == 0:\n",
    "       mul_sum += num\n",
    "\n",
    "print(f'1 ~ 100까지 3의 배수의 합 : {mul_sum}')"
   ]
  },
  {
   "cell_type": "code",
   "execution_count": 1,
   "metadata": {},
   "outputs": [
    {
     "name": "stdout",
     "output_type": "stream",
     "text": [
      "3 ~ 10까지 각 제곱수의 합 : 380\n"
     ]
    }
   ],
   "source": [
    "# 두 개의 양의 정수를 입력받아 작은 수 에서 큰 수까지의 제곱수의 합\n",
    "num1, num2 = map(int, input().split())\n",
    "\n",
    "min_n = min(num1, num2)\n",
    "max_n = max(num1, num2)\n",
    "\n",
    "sq_sum = 0\n",
    "for i in range(min_n, max_n + 1):\n",
    "    sq_sum += i * i\n",
    "\n",
    "print(f'{min_n} ~ {max_n}까지 각 제곱수의 합 : {sq_sum}')\n"
   ]
  },
  {
   "cell_type": "code",
   "execution_count": 15,
   "metadata": {},
   "outputs": [
    {
     "name": "stdout",
     "output_type": "stream",
     "text": [
      "1 ~ 20까지 홀수의 제곱의 합 : 1330\n"
     ]
    }
   ],
   "source": [
    "# 1 ~ 20까지 홀수의 제곱의 합\n",
    "odd_list = [ i * i for i in range(1, 21) if i % 2 == 1 ]\n",
    "print(f'1 ~ 20까지 홀수의 제곱의 합 : {sum(odd_list)}')\n"
   ]
  },
  {
   "cell_type": "code",
   "execution_count": 15,
   "metadata": {},
   "outputs": [
    {
     "name": "stdout",
     "output_type": "stream",
     "text": [
      "ID: Heny, 이름: James, 나이: 27, 전화번호: 010-1234-1234\n",
      "ID: Oen, 이름: Maria, 나이: 22, 전화번호: 010-9999-9999\n"
     ]
    }
   ],
   "source": [
    "import datetime as dt\n",
    "\n",
    "class Member:\n",
    "    def __init__(self, mid, name, birth_year, tel):\n",
    "        self.mid = mid\n",
    "        self.name = name\n",
    "        self.birth_year = birth_year\n",
    "        self.__tel = tel\n",
    "\n",
    "    def get_age(self):\n",
    "        return dt.datetime.now().year - self.birth_year\n",
    "\n",
    "    def set_tel(self, tel):\n",
    "        self.__tel = tel\n",
    "\n",
    "    def __str__(self):\n",
    "        return f'ID: {self.mid}, 이름: {self.name}, 나이: {self.get_age()}, 전화번호: {self.__tel}'\n",
    "\n",
    "james = Member('Heny', 'James', 1996, '010-1111-1111')\n",
    "maria = Member('Oen', 'Maria', 2001, '010-2222-2222')\n",
    "\n",
    "james.set_tel('010-1234-1234')\n",
    "maria.set_tel('010-9999-9999')\n",
    "\n",
    "print(james)\n",
    "print(maria)"
   ]
  },
  {
   "cell_type": "code",
   "execution_count": 16,
   "metadata": {},
   "outputs": [
    {
     "name": "stdout",
     "output_type": "stream",
     "text": [
      "2 ~ 100까지의 숫자 중 소수는 => \n",
      "2 3 5 7 11 13 17 19 23 29 31 37 41 43 47 53 59 61 67 71 73 79 83 89 97\n"
     ]
    }
   ],
   "source": [
    "# 소수 있지 판별\n",
    "# 전체 약수의 개수를 구해서 2개이면 소수인 판별도 가능\n",
    "# number ** 1/2 까지만 검사하면 그 이후로 검사해도 마찬가지임\n",
    "import math\n",
    "\n",
    "def is_prime(num):\n",
    "    # for i in range(2, num):\n",
    "    for i in range(2, int(math.floor(math.sqrt(num)))+1):\n",
    "        if num % i == 0:\n",
    "            return False\n",
    "    return True\n",
    "\n",
    "numbers = [x for x in range(2, 101) if is_prime(x)]\n",
    "\n",
    "print('2 ~ 100까지의 숫자 중 소수는 => ')\n",
    "print(*numbers, sep=' ')\n"
   ]
  }
 ],
 "metadata": {
  "kernelspec": {
   "display_name": "base",
   "language": "python",
   "name": "python3"
  },
  "language_info": {
   "codemirror_mode": {
    "name": "ipython",
    "version": 3
   },
   "file_extension": ".py",
   "mimetype": "text/x-python",
   "name": "python",
   "nbconvert_exporter": "python",
   "pygments_lexer": "ipython3",
   "version": "3.10.10"
  },
  "orig_nbformat": 4
 },
 "nbformat": 4,
 "nbformat_minor": 2
}
