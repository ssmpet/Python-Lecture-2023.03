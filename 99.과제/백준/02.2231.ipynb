{
 "cells": [
  {
   "attachments": {},
   "cell_type": "markdown",
   "metadata": {},
   "source": [
    "### 2231번. 분해합"
   ]
  },
  {
   "attachments": {},
   "cell_type": "markdown",
   "metadata": {},
   "source": [
    "- 문제\n",
    "\n",
    "어떤 자연수 N이 있을 때, 그 자연수 N의 분해합은 N과 N을 이루는 각 자리수의 합을 의미한다. 어떤 자연수 M의 분해합이 N인 경우, M을 N의 생성자라 한다. 예를 들어, 245의 분해합은 256(=245+2+4+5)이 된다. 따라서 245는 256의 생성자가 된다. 물론, 어떤 자연수의 경우에는 생성자가 없을 수도 있다. 반대로, 생성자가 여러 개인 자연수도 있을 수 있다.\n",
    "\n",
    "자연수 N이 주어졌을 때, N의 가장 작은 생성자를 구해내는 프로그램을 작성하시오.\n",
    "\n"
   ]
  },
  {
   "attachments": {},
   "cell_type": "markdown",
   "metadata": {},
   "source": [
    "- 입력\n",
    "\n",
    "첫째 줄에 자연수 N(1 ≤ N ≤ 1,000,000)이 주어진다."
   ]
  },
  {
   "attachments": {},
   "cell_type": "markdown",
   "metadata": {},
   "source": [
    "- 출력\n",
    "\n",
    "첫째 줄에 답을 출력한다. 생성자가 없는 경우에는 0을 출력한다."
   ]
  },
  {
   "cell_type": "code",
   "execution_count": 7,
   "metadata": {},
   "outputs": [],
   "source": [
    "# 분해합을 반환하는 함수\n",
    "def sum_of_decomposition(num):\n",
    "\n",
    "    sum = 0\n",
    "    str_num = list(str(num))\n",
    "    for i in str_num:\n",
    "        sum += int(i)\n",
    "        \n",
    "    return  num + sum\n"
   ]
  },
  {
   "cell_type": "code",
   "execution_count": 16,
   "metadata": {},
   "outputs": [
    {
     "name": "stdout",
     "output_type": "stream",
     "text": [
      "8863\n"
     ]
    }
   ],
   "source": [
    "num = int(input())\n",
    "\n",
    "con = []\n",
    "for i in range(num - 9 * len(str(num)), num):\n",
    "\n",
    "    if sum_of_decomposition(i) == num : \n",
    "        con.append(i)\n",
    "\n",
    "print(f'{0}' if len(con)==0 else f'{min(con)}')\n"
   ]
  }
 ],
 "metadata": {
  "kernelspec": {
   "display_name": "base",
   "language": "python",
   "name": "python3"
  },
  "language_info": {
   "codemirror_mode": {
    "name": "ipython",
    "version": 3
   },
   "file_extension": ".py",
   "mimetype": "text/x-python",
   "name": "python",
   "nbconvert_exporter": "python",
   "pygments_lexer": "ipython3",
   "version": "3.10.10"
  },
  "orig_nbformat": 4
 },
 "nbformat": 4,
 "nbformat_minor": 2
}
