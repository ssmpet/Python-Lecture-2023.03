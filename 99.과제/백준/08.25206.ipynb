{
 "cells": [
  {
   "attachments": {},
   "cell_type": "markdown",
   "metadata": {},
   "source": [
    "### 백준 25206번: 너의 평점은"
   ]
  },
  {
   "attachments": {},
   "cell_type": "markdown",
   "metadata": {},
   "source": [
    "- 문제\n",
    "\n",
    "인하대학교 컴퓨터공학과를 졸업하기 위해서는, 전공평점이 3.3 이상이거나 졸업고사를 통과해야 한다. 그런데 아뿔싸, 치훈이는 깜빡하고 졸업고사를 응시하지 않았다는 사실을 깨달았다!\n",
    "\n",
    "치훈이의 전공평점을 계산해주는 프로그램을 작성해보자.\n",
    "\n",
    "전공평점은 전공과목별 (학점 × 과목평점)의 합을 학점의 총합으로 나눈 값이다.\n",
    "\n",
    "인하대학교 컴퓨터공학과의 등급에 따른 과목평점은 다음 표와 같다.\n",
    "\n",
    "A+\t4.5\n",
    "\n",
    "A0\t4.0\n",
    "\n",
    "B+\t3.5\n",
    "\n",
    "B0\t3.0\n",
    "\n",
    "C+\t2.5\n",
    "\n",
    "C0\t2.0\n",
    "\n",
    "D+\t1.5\n",
    "\n",
    "D0\t1.0\n",
    "\n",
    "F\t0.0\n",
    "\n",
    "P/F 과목의 경우 등급이 P또는 F로 표시되는데, 등급이 P인 과목은 계산에서 제외해야 한다.\n",
    "\n",
    "과연 치훈이는 무사히 졸업할 수 있을까?\n",
    "\n",
    "- 입력\n",
    "\n",
    "20줄에 걸쳐 치훈이가 수강한 전공과목의 과목명, 학점, 등급이 공백으로 구분되어 주어진다.\n",
    "\n",
    "- 출력\n",
    "\n",
    "치훈이의 전공평점을 출력한다.\n",
    "\n",
    "정답과의 절대오차 또는 상대오차가 \n",
    "\\(10^{-4}\\) 이하이면 정답으로 인정한다.\n",
    "\n",
    "- 제한\n",
    "\n",
    "1 ≤ 과목명의 길이 ≤ 50\n",
    "과목명은 알파벳 대소문자 또는 숫자로만 이루어져 있으며, 띄어쓰기 없이 주어진다. 입력으로 주어지는 모든 과목명은 서로 다르다.\n",
    "학점은 1.0,2.0,3.0,4.0중 하나이다.\n",
    "등급은 A+,A0,B+,B0,C+,C0,D+,D0,F,P중 하나이다.\n",
    "적어도 한 과목은 등급이 P가 아님이 보장된다."
   ]
  },
  {
   "cell_type": "code",
   "execution_count": 28,
   "metadata": {},
   "outputs": [],
   "source": [
    "# 과목 평점표\n",
    "grage_map = { 'A+':4.5, 'A0':4.0, \n",
    "            'B+':3.5, 'B0':3.0, \n",
    "            'C+':2.5, 'C0':2.0, \n",
    "            'D+':1.5, 'D0':1.0, \n",
    "            'F':0.0,   'P':None}\n",
    "\n",
    "subject = '''ObjectOrientedProgramming1 3.0 A+\n",
    "IntroductiontoComputerEngineering 3.0 A+\n",
    "ObjectOrientedProgramming2 3.0 A0\n",
    "CreativeComputerEngineeringDesign 3.0 A+\n",
    "AssemblyLanguage 3.0 A+\n",
    "InternetProgramming 3.0 B0\n",
    "ApplicationProgramminginJava 3.0 A0\n",
    "SystemProgramming 3.0 B0\n",
    "OperatingSystem 3.0 B0\n",
    "WirelessCommunicationsandNetworking 3.0 C+\n",
    "LogicCircuits 3.0 B0\n",
    "DataStructure 4.0 A+\n",
    "MicroprocessorApplication 3.0 B+\n",
    "EmbeddedSoftware 3.0 C0\n",
    "ComputerSecurity 3.0 D+\n",
    "Database 3.0 C+\n",
    "Algorithm 3.0 B0\n",
    "CapstoneDesigninCSE 3.0 B+\n",
    "CompilerDesign 3.0 D0\n",
    "ProblemSolving 4.0 P'''\n"
   ]
  },
  {
   "cell_type": "code",
   "execution_count": 29,
   "metadata": {},
   "outputs": [
    {
     "name": "stdout",
     "output_type": "stream",
     "text": [
      "3.284483\n"
     ]
    }
   ],
   "source": [
    "subject_list = subject.split('\\n')\n",
    "total_sum, grade_sum = 0, 0\n",
    "\n",
    "for val in subject_list:\n",
    "    sub_list = val.split()\n",
    "\n",
    "    if sub_list[2] == 'P':\n",
    "        continue\n",
    "\n",
    "    total_sum += float(sub_list[1]) * grage_map[sub_list[2]]\n",
    "    grade_sum += float(sub_list[1])\n",
    "\n",
    "print(f'{total_sum/grade_sum:.6f}')"
   ]
  },
  {
   "cell_type": "code",
   "execution_count": 31,
   "metadata": {},
   "outputs": [
    {
     "name": "stdout",
     "output_type": "stream",
     "text": [
      "['__and__', '__class__', '__class_getitem__', '__contains__', '__delattr__', '__dir__', '__doc__', '__eq__', '__format__', '__ge__', '__getattribute__', '__gt__', '__hash__', '__iand__', '__init__', '__init_subclass__', '__ior__', '__isub__', '__iter__', '__ixor__', '__le__', '__len__', '__lt__', '__ne__', '__new__', '__or__', '__rand__', '__reduce__', '__reduce_ex__', '__repr__', '__ror__', '__rsub__', '__rxor__', '__setattr__', '__sizeof__', '__str__', '__sub__', '__subclasshook__', '__xor__', 'add', 'clear', 'copy', 'difference', 'difference_update', 'discard', 'intersection', 'intersection_update', 'isdisjoint', 'issubset', 'issuperset', 'pop', 'remove', 'symmetric_difference', 'symmetric_difference_update', 'union', 'update']\n"
     ]
    }
   ],
   "source": [
    "print(dir(set()))"
   ]
  }
 ],
 "metadata": {
  "kernelspec": {
   "display_name": "base",
   "language": "python",
   "name": "python3"
  },
  "language_info": {
   "codemirror_mode": {
    "name": "ipython",
    "version": 3
   },
   "file_extension": ".py",
   "mimetype": "text/x-python",
   "name": "python",
   "nbconvert_exporter": "python",
   "pygments_lexer": "ipython3",
   "version": "3.10.10"
  },
  "orig_nbformat": 4
 },
 "nbformat": 4,
 "nbformat_minor": 2
}
