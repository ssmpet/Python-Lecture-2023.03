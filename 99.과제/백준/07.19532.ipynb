{
 "cells": [
  {
   "attachments": {},
   "cell_type": "markdown",
   "metadata": {},
   "source": [
    "### 백준 19532번: 수학은 비대면강의입니다"
   ]
  },
  {
   "attachments": {},
   "cell_type": "markdown",
   "metadata": {},
   "source": [
    "- 문제\n",
    "\n",
    "수현이는 4차 산업혁명 시대에 살고 있는 중학생이다. 코로나 19로 인해, 수현이는 버추얼 학교로 버추얼 출석해 버추얼 강의를 듣고 있다. 수현이의 버추얼 선생님은 문자가 2개인 연립방정식을 해결하는 방법에 대해 강의하고, 다음과 같은 문제를 숙제로 냈다.\n",
    "\n",
    "다음 연립방정식에서 \n",
    "$x$와 \n",
    "$y$의 값을 계산하시오.\n",
    " \n",
    "ax+by=c\n",
    "\n",
    "dx+ey=f\n",
    "\n",
    "\n",
    "4차 산업혁명 시대에 숙제나 하고 앉아있는 것보다 버추얼 친구들을 만나러 가는 게 더 가치있는 일이라고 생각했던 수현이는 이런 연립방정식을 풀 시간이 없었다. 다행히도, 버추얼 강의의 숙제 제출은 인터넷 창의 빈 칸에 수들을 입력하는 식이다. 각 칸에는 \n",
    "$-999$ 이상 \n",
    "$999$ 이하의 정수만 입력할 수 있다. 수현이가 버추얼 친구들을 만나러 버추얼 세계로 떠날 수 있게 도와주자.\n",
    "\n",
    "- 입력\n",
    "\n",
    "정수 \n",
    "$a$, \n",
    "$b$, \n",
    "$c$, \n",
    "$d$, \n",
    "$e$, \n",
    "$f$가 공백으로 구분되어 차례대로 주어진다. (\n",
    "$-999 \\leq a,b,c,d,e,f \\leq 999$)\n",
    "\n",
    "문제에서 언급한 방정식을 만족하는 \n",
    "$\\left(x,y\\right)$가 유일하게 존재하고, 이 때 \n",
    "$x$와 \n",
    "$y$가 각각 \n",
    "$-999$ 이상 \n",
    "$999$ 이하의 정수인 경우만 입력으로 주어짐이 보장된다.\n",
    "\n",
    "- 출력\n",
    "\n",
    "문제의 답인 \n",
    "$x$와 \n",
    "$y$를 공백으로 구분해 출력한다."
   ]
  },
  {
   "cell_type": "code",
   "execution_count": 7,
   "metadata": {},
   "outputs": [],
   "source": [
    "a, b, c, d, e, f = map(int, input().split())"
   ]
  },
  {
   "cell_type": "code",
   "execution_count": 8,
   "metadata": {},
   "outputs": [
    {
     "name": "stdout",
     "output_type": "stream",
     "text": [
      "2 -1\n"
     ]
    }
   ],
   "source": [
    "check = False\n",
    "for x in range(-999, 1000):\n",
    "    for y in range(-999, 1000):\n",
    "        if (a * x + b * y == c) and (d * x + e * y == f):\n",
    "            print(x, y)\n",
    "            check = True\n",
    "            break\n",
    "    if check: break"
   ]
  }
 ],
 "metadata": {
  "kernelspec": {
   "display_name": "base",
   "language": "python",
   "name": "python3"
  },
  "language_info": {
   "codemirror_mode": {
    "name": "ipython",
    "version": 3
   },
   "file_extension": ".py",
   "mimetype": "text/x-python",
   "name": "python",
   "nbconvert_exporter": "python",
   "pygments_lexer": "ipython3",
   "version": "3.10.10"
  },
  "orig_nbformat": 4
 },
 "nbformat": 4,
 "nbformat_minor": 2
}
