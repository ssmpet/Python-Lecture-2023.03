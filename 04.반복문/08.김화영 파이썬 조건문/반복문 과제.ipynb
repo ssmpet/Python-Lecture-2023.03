{
 "cells": [
  {
   "attachments": {},
   "cell_type": "markdown",
   "metadata": {},
   "source": [
    "### 230331_파이썬 조건문/반복문 과제"
   ]
  },
  {
   "attachments": {},
   "cell_type": "markdown",
   "metadata": {},
   "source": [
    "- Q1. 백준도장 2884번 알람 시계"
   ]
  },
  {
   "cell_type": "code",
   "execution_count": 14,
   "metadata": {},
   "outputs": [
    {
     "name": "stdout",
     "output_type": "stream",
     "text": [
      "알람 설정한 시간     => 22시 : 45분\n",
      "45 분 일찍 알람 시간 => 22시 : 0분\n"
     ]
    }
   ],
   "source": [
    "# 시간과 분을 같이 입력받는다.\n",
    "hour, min = map(int, input('일어날 시간을 입력해 주세요. ex) 3 45 >').split())\n",
    "print(f'알람 설정한 시간     => {hour}시 : {min}분')\n",
    "\n",
    "\n",
    "if hour > 23 or min >= 60 :\n",
    "    print('입력한 시간이 잘못된 값입니다.')\n",
    "else: \n",
    "    # 분부터 계산하기 \n",
    "    if min >= 45 : \n",
    "        min -= 45\n",
    "    else:\n",
    "        min = 60 + min - 45\n",
    "        if hour == 0 :\n",
    "            hour = 23\n",
    "        else: \n",
    "            hour -= 1\n",
    "\n",
    "\n",
    "print(f'45 분 일찍 알람 시간 => {hour}시 : {min}분')\n"
   ]
  },
  {
   "attachments": {},
   "cell_type": "markdown",
   "metadata": {},
   "source": [
    "- Q2. 백준도장 2480번 주사위 문제\n",
    "\n",
    "    (단, 주사위 3개의 눈은 입력을 통해서 받지 말고, 랜덤 넘버로 만들 것)"
   ]
  },
  {
   "cell_type": "code",
   "execution_count": 35,
   "metadata": {},
   "outputs": [
    {
     "name": "stdout",
     "output_type": "stream",
     "text": [
      "1, 2, 5, prize = 500원\n"
     ]
    }
   ],
   "source": [
    "import random\n",
    "dice1 = random.randint(1, 6)\n",
    "dice2 = random.randint(1, 6)\n",
    "dice3 = random.randint(1, 6)\n",
    "\n",
    "prize  = 0\n",
    "if dice1 == dice2 == dice3:\n",
    "    prize = 10000 + dice1 * 1000\n",
    "else:\n",
    "    if dice1 == dice2 or dice1 == dice3 :\n",
    "        prize = 1000 + dice1 * 100\n",
    "    elif dice2 == dice3 :\n",
    "        prize = 1000 + dice2 * 100\n",
    "    else:\n",
    "        max_value = dice1\n",
    "        if dice2 > dice1 :\n",
    "            max_value = dice2\n",
    "        if dice3 > max_value:\n",
    "            max_value = dice3\n",
    "        prize = max_value * 100\n",
    "\n",
    "print(f'{dice1}, {dice2}, {dice3}, prize = {prize}원')\n",
    "        \n",
    "\n"
   ]
  },
  {
   "attachments": {},
   "cell_type": "markdown",
   "metadata": {},
   "source": [
    "- Q3. 완전수 구하기 (2에서 10000 사이의 완전수 구하기)\n",
    "\n",
    "    자기 자신을 제외한 약수의 합 = 자기자신"
   ]
  },
  {
   "cell_type": "code",
   "execution_count": 41,
   "metadata": {},
   "outputs": [
    {
     "name": "stdout",
     "output_type": "stream",
     "text": [
      "[6, 28, 496, 8128]\n"
     ]
    }
   ],
   "source": [
    "\n",
    "\n",
    "numbers = []\n",
    "for i in range(2, 10001):\n",
    "    sum_v = 0\n",
    "    for k in range(1, i):\n",
    "        if i % k == 0:\n",
    "            sum_v += k\n",
    "        \n",
    "    if sum_v == i : \n",
    "        numbers.append(i)\n",
    "\n",
    "print(numbers)"
   ]
  },
  {
   "attachments": {},
   "cell_type": "markdown",
   "metadata": {},
   "source": [
    "- Q4. 도전과제: 피타고라스 수\n",
    "\n",
    "    직각삼각형의 세변(a < b < c)이 있다.\n",
    "    \n",
    "    a + b + c = 1000 을 만족시키는 직각삼각형의 세변을 구하세요. (단, a*a + b*b = c*c)"
   ]
  },
  {
   "cell_type": "code",
   "execution_count": 45,
   "metadata": {},
   "outputs": [
    {
     "name": "stdout",
     "output_type": "stream",
     "text": [
      "[[375, 200, 425]]\n"
     ]
    }
   ],
   "source": [
    "three_v = []\n",
    "odd  = 0\n",
    "for a in range(1, 1001):\n",
    "    for b in range(1, a+1):\n",
    "        c = 1000 - a - b\n",
    "        if a*a + b*b == c*c:\n",
    "            three_v.append([a, b, c])\n",
    "            odd += 1\n",
    "\n",
    "print(three_v)\n",
    "            "
   ]
  },
  {
   "cell_type": "code",
   "execution_count": null,
   "metadata": {},
   "outputs": [],
   "source": []
  }
 ],
 "metadata": {
  "kernelspec": {
   "display_name": "base",
   "language": "python",
   "name": "python3"
  },
  "language_info": {
   "codemirror_mode": {
    "name": "ipython",
    "version": 3
   },
   "file_extension": ".py",
   "mimetype": "text/x-python",
   "name": "python",
   "nbconvert_exporter": "python",
   "pygments_lexer": "ipython3",
   "version": "3.10.9"
  },
  "orig_nbformat": 4
 },
 "nbformat": 4,
 "nbformat_minor": 2
}
