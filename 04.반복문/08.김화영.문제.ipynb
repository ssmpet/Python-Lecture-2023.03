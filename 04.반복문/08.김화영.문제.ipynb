{
 "cells": [
  {
   "attachments": {},
   "cell_type": "markdown",
   "metadata": {},
   "source": [
    "- Q1. 알람 시계 문제\n",
    "\n",
    "      설정한 시간 보다 45분 전으로 다시 맞추기"
   ]
  },
  {
   "cell_type": "code",
   "execution_count": null,
   "metadata": {},
   "outputs": [
    {
     "name": "stdout",
     "output_type": "stream",
     "text": [
      "재설정 알람 시간 22 : 55\n"
     ]
    }
   ],
   "source": [
    "hour, min = map(int, input('알람을 설정해 주세요. ex) 3 34>').split())\n",
    "\n",
    "min -= 45\n",
    " \n",
    "if min < 0:\n",
    "    min += 60\n",
    "    hour -= 1\n",
    "\n",
    "if hour < 0:\n",
    "    hour += 24\n",
    "    \n",
    "print(f'재설정 알람 시간 {hour} : {min}')"
   ]
  },
  {
   "attachments": {},
   "cell_type": "markdown",
   "metadata": {},
   "source": [
    "- Q2. 백준도장 2480번 주사위 문제 (단, 주사위 3개의 눈은 입력을 통해서 받지 말고, 랜덤 넘버로 만들 것)\n",
    "\n",
    "        1에서부터 6까지의 눈을 가진 3개의 주사위를 던져서 다음과 같은 규칙에 따라 상금을 받는 게임이 있다. \n",
    "\n",
    "          같은 눈이 3개가 나오면 10,000원+(같은 눈)×1,000원의 상금을 받게 된다. \n",
    "          같은 눈이 2개만 나오는 경우에는 1,000원+(같은 눈)×100원의 상금을 받게 된다. \n",
    "          모두 다른 눈이 나오는 경우에는 (그 중 가장 큰 눈)×100원의 상금을 받게 된다.  "
   ]
  },
  {
   "cell_type": "code",
   "execution_count": 102,
   "metadata": {},
   "outputs": [
    {
     "name": "stdout",
     "output_type": "stream",
     "text": [
      "6 5 1 총 상금 : 600\n"
     ]
    }
   ],
   "source": [
    "# 방법 1\n",
    "import random\n",
    "\n",
    "dice1 = random.randint(1, 6)\n",
    "dice2 = random.randint(1, 6)\n",
    "dice3 = random.randint(1, 6)\n",
    "\n",
    "prize = 0\n",
    "if dice1 == dice2 == dice3 :\n",
    "    prize = 10000 + dice1 * 1000\n",
    "elif dice1 == dice2 or dice1 == dice3 :\n",
    "    prize = 1000 + dice1 * 100\n",
    "elif dice2 == dice3 :\n",
    "    prize = 1000 + dice2 * 100\n",
    "else : \n",
    "    max_dice = max([dice1, dice2, dice3])\n",
    "    prize = max_dice * 100\n",
    "\n",
    "print(f'{dice1} {dice2} {dice3} 총 상금 : {prize}')"
   ]
  },
  {
   "cell_type": "code",
   "execution_count": 140,
   "metadata": {},
   "outputs": [
    {
     "name": "stdout",
     "output_type": "stream",
     "text": [
      "5 4 5 총 상금 : 1500\n"
     ]
    }
   ],
   "source": [
    "# 방법 2 : 리스트 이용하기\n",
    "import random\n",
    "\n",
    "# dice 리스트에 초기값 0 으로 설정, 리스트 index 1 ~ 6 까지가 주사위 숫자임.\n",
    "dice = [0 for i in range(7)]\n",
    "\n",
    "max_dice = 0\n",
    "for i in range(3):\n",
    "    # 랜덤으로 받은 주사위 숫자\n",
    "    dice_number = random.randint(1, 6)\n",
    "    # 주사위 숫자에 해당하는 리스트 index에 1씩 증가시킨다. 같은 주사위 숫자가 나오면 계속 1씩 증가시킨다.\n",
    "    dice[dice_number] += 1\n",
    "    # 가장 큰 주사위 숫자를 비교해서 알아낸다.\n",
    "    max_dice = max(max_dice, dice_number)\n",
    "    print(dice_number, end=' ')\n",
    "\n",
    "# 리스트에서 가장 큰 값 알아내기\n",
    "cnt = max(dice)  # cnt 가 3 : 3개가 같은 수, 2 : 2개가 같은 수\n",
    "\n",
    "# index(값) 메소드는 해당 값의 index를 반환한다.\n",
    "# 리스트에서 cnt 값의 인덱스를 알아낸다. 그 인덱스가 주사위 숫자이다.\n",
    "same_dice = dice.index(cnt)\n",
    "\n",
    "if cnt == 3:    # 세 개 같은 수 \n",
    "    prize = 10000 + same_dice * 1000\n",
    "elif cnt == 2:  # 두 개 같은 수\n",
    "    prize = 1000 + same_dice * 100\n",
    "else:\n",
    "    prize = max_dice * 100\n",
    "\n",
    "print(f'총 상금 : {prize}')\n"
   ]
  },
  {
   "attachments": {},
   "cell_type": "markdown",
   "metadata": {},
   "source": [
    "- Q3. 완전수 구하기\n",
    "\n",
    "        2에서 10000 사이의 완전수 구하기"
   ]
  },
  {
   "cell_type": "code",
   "execution_count": 1,
   "metadata": {},
   "outputs": [
    {
     "name": "stdout",
     "output_type": "stream",
     "text": [
      "완전수들 : [6, 28, 496, 8128]\n"
     ]
    }
   ],
   "source": [
    "# 방법 1\n",
    "perfect_number = []\n",
    "for  i in range(2, 10000 + 1):\n",
    "    sum = 0\n",
    "    for k in range(1, i):\n",
    "        if i % k == 0:\n",
    "            sum += k\n",
    "    if sum == i :\n",
    "        perfect_number.append(i)\n",
    "\n",
    "print(f'완전수들 : {perfect_number}')"
   ]
  },
  {
   "cell_type": "code",
   "execution_count": 4,
   "metadata": {},
   "outputs": [],
   "source": [
    "# 소수 인지 판별하는 함수\n",
    "def check_sosu(num):\n",
    "\n",
    "    for i in range(2, num) :\n",
    "        # 1과 자기자신을 제외하고 약수가 있으면 바로 False\n",
    "        # 계속 약수를 구할 필요가 없다.\n",
    "        if num % i == 0:\n",
    "            return False\n",
    "        \n",
    "    # 약수가 하나라도 없으면 True\n",
    "    return True"
   ]
  },
  {
   "cell_type": "code",
   "execution_count": 5,
   "metadata": {},
   "outputs": [
    {
     "name": "stdout",
     "output_type": "stream",
     "text": [
      "완전수들 : [6, 28, 496, 8128]\n"
     ]
    }
   ],
   "source": [
    "# 방법 2\n",
    "# 공식을 알 때 \n",
    "# 짝수 완전수들은  (2 ^ (p - 1) ) * ( 2 ^ p -1) 의 형태로 존재하며, 이 식에서 (2 ^ p - 1) 부분이 소수인 경우에 완전수가 된다.\n",
    "\n",
    "import math\n",
    "\n",
    "perfect_number = []\n",
    "\n",
    "# 1은 제외한다.\n",
    "p = 2\n",
    "while True:\n",
    "    sosu =  2 ** p - 1          # (2 ^ p -1) 의 형태\n",
    "    num = 2 ** (p - 1)  * sosu  # (2 ^ (p - 1) ) * ( 2 ^ p - 1)\n",
    "\n",
    "    # 소수 판별\n",
    "    if check_sosu(sosu) :\n",
    "        # 리스트에 추가한다.\n",
    "        perfect_number.append(num)\n",
    "    \n",
    "    # 10000이 넘으면 더 진행해야 할 이유가 없다. 2 ~ 10000\n",
    "    if num > 10000 :\n",
    "        break\n",
    "    p += 1\n",
    "\n",
    "print(f'완전수들 : {perfect_number}')\n"
   ]
  },
  {
   "attachments": {},
   "cell_type": "markdown",
   "metadata": {},
   "source": [
    "- Q4. 도전과제: 피타고라스 수\n",
    "\n",
    "        직각삼각형의 세변(a < b < c)이 있다.\n",
    "        a + b + c = 1000 을 만족시키는 직각삼각형의 세변을 구하세요. (단, a*a + b*b = c*c)"
   ]
  },
  {
   "cell_type": "code",
   "execution_count": 8,
   "metadata": {},
   "outputs": [
    {
     "name": "stdout",
     "output_type": "stream",
     "text": [
      "a = 200, b = 375, c = 425\n"
     ]
    }
   ],
   "source": [
    "t_list = list()\n",
    "\n",
    "# a는 1부터\n",
    "for a in range(1, 1000+1):\n",
    "    # b > a 임으로 a + 1부터 시작한다.\n",
    "    for b in range(a+1, 1000+1) :\n",
    "        # a 와 b값이 정해졌으므로 c는 1000에서 a와 b를 빼주면 된다.\n",
    "        c = 1000 - a - b\n",
    "        # 피타고라스의 공식으로 다음 조건을 만족하면 [a, b, c]를 리스트로 만들어 추가한다.\n",
    "        # 1000 이상일 경우도 존재하면?\n",
    "        if a * a + b * b == c * c :\n",
    "            t_list.append([a, b, c])\n",
    "\n",
    "for numbers in t_list:\n",
    "    print(f'a = {numbers[0]}, b = {numbers[1]}, c = {numbers[2]}') "
   ]
  },
  {
   "cell_type": "code",
   "execution_count": null,
   "metadata": {},
   "outputs": [],
   "source": []
  }
 ],
 "metadata": {
  "kernelspec": {
   "display_name": "base",
   "language": "python",
   "name": "python3"
  },
  "language_info": {
   "codemirror_mode": {
    "name": "ipython",
    "version": 3
   },
   "file_extension": ".py",
   "mimetype": "text/x-python",
   "name": "python",
   "nbconvert_exporter": "python",
   "pygments_lexer": "ipython3",
   "version": "3.10.9"
  },
  "orig_nbformat": 4,
  "vscode": {
   "interpreter": {
    "hash": "9ad9f9c592abbba12f5149783f85538b4c5669fc68fed8dcce4ba0e7c6bb3d74"
   }
  }
 },
 "nbformat": 4,
 "nbformat_minor": 2
}
