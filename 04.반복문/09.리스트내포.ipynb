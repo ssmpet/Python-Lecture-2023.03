{
 "cells": [
  {
   "attachments": {},
   "cell_type": "markdown",
   "metadata": {},
   "source": [
    "### 4-4. 리스트 내포(comprehension)"
   ]
  },
  {
   "cell_type": "code",
   "execution_count": 1,
   "metadata": {},
   "outputs": [
    {
     "name": "stdout",
     "output_type": "stream",
     "text": [
      "[1, 4, 9, 16, 25, 36, 49, 64, 81, 100]\n"
     ]
    }
   ],
   "source": [
    "# 1에서 10까지의 제곱수로 된 리스트 만들기\n",
    "sq_list = []\n",
    "for i in range(1, 11):\n",
    "    sq_list.append(i*i)\n",
    "\n",
    "print(sq_list)"
   ]
  },
  {
   "cell_type": "code",
   "execution_count": 14,
   "metadata": {},
   "outputs": [
    {
     "name": "stdout",
     "output_type": "stream",
     "text": [
      "[1, 4, 9, 16, 25, 36, 49, 64, 81, 100]\n"
     ]
    }
   ],
   "source": [
    "# 파이썬에서 효율적으로 사용하는 방법\n",
    "sq_list = [i * i for i in range(1, 11)]\n",
    "print(sq_list)"
   ]
  },
  {
   "cell_type": "code",
   "execution_count": 20,
   "metadata": {},
   "outputs": [
    {
     "name": "stdout",
     "output_type": "stream",
     "text": [
      "[1, 9, 25, 49, 81]\n"
     ]
    }
   ],
   "source": [
    "# 1에서 10까지 홀수 제곱 리스트\n",
    "odd_sq_list = [i * i for i in range(1, 11, 2)]\n",
    "print(odd_sq_list)"
   ]
  },
  {
   "cell_type": "code",
   "execution_count": 25,
   "metadata": {},
   "outputs": [
    {
     "name": "stdout",
     "output_type": "stream",
     "text": [
      "[1, 9, 25, 49, 81]\n"
     ]
    }
   ],
   "source": [
    "# 시작 숫자와 끝 숫자를 입력으로 받아 홀수 제곱 리스트를 만드는 경우\n",
    "start, stop = 1, 10\n",
    "odd_sq_list = []\n",
    "for i in range(start, stop+1):\n",
    "    if i % 2 == 1:\n",
    "        odd_sq_list.append(i * i)\n",
    "print(odd_sq_list)\n"
   ]
  },
  {
   "cell_type": "code",
   "execution_count": 27,
   "metadata": {},
   "outputs": [
    {
     "name": "stdout",
     "output_type": "stream",
     "text": [
      "[1, 9, 25, 49, 81]\n"
     ]
    }
   ],
   "source": [
    "start, stop = 1, 10\n",
    "odd_sq_list = [i * i for i in range(start, stop+1) if i % 2 == 1]\n",
    "print(odd_sq_list)"
   ]
  },
  {
   "cell_type": "code",
   "execution_count": 28,
   "metadata": {},
   "outputs": [
    {
     "name": "stdout",
     "output_type": "stream",
     "text": [
      "[1, 9, 25, 49, 81]\n"
     ]
    }
   ],
   "source": [
    "start, stop = 1, 10\n",
    "odd_sq_list = [i * i for i in range(start, stop+1, 2)]\n",
    "print(odd_sq_list)\n"
   ]
  },
  {
   "cell_type": "code",
   "execution_count": 43,
   "metadata": {},
   "outputs": [
    {
     "name": "stdout",
     "output_type": "stream",
     "text": [
      "['apple', 'banana', 'mango', 'peach']\n"
     ]
    }
   ],
   "source": [
    "fruits = ['apple', 'banana', 'cherry', 'mango', 'peach', 'melon']\n",
    "\n",
    "# a 포합되어 있는 과일 리스트 a_fruits를 만드세요.\n",
    "a_fruits = [a_in for a_in in fruits if 'a' in a_in]\n",
    "print(a_fruits)"
   ]
  },
  {
   "cell_type": "code",
   "execution_count": 44,
   "metadata": {},
   "outputs": [
    {
     "name": "stdout",
     "output_type": "stream",
     "text": [
      "['apple', 'banana', 'mango', 'peach']\n"
     ]
    }
   ],
   "source": [
    "a_fruits = [fruit for fruit in fruits if fruit.find('a') >= 0]\n",
    "print(a_fruits)"
   ]
  },
  {
   "attachments": {},
   "cell_type": "markdown",
   "metadata": {},
   "source": [
    "- Nested for"
   ]
  },
  {
   "cell_type": "code",
   "execution_count": 41,
   "metadata": {},
   "outputs": [
    {
     "name": "stdout",
     "output_type": "stream",
     "text": [
      "[[1, 4, 7], [2, 5, 8], [3, 6, 9]]\n"
     ]
    }
   ],
   "source": [
    "\n",
    "alist = [[i for i in range(k, 10, 3)] for k in range(1, 4)]\n",
    "print(alist)"
   ]
  },
  {
   "cell_type": "code",
   "execution_count": 49,
   "metadata": {},
   "outputs": [
    {
     "name": "stdout",
     "output_type": "stream",
     "text": [
      "[2, 4, 6, 8, 10, 12, 14, 16, 18, 3, 6, 9, 12, 15, 18, 21, 24, 27, 4, 8, 12, 16, 20, 24, 28, 32, 36, 5, 10, 15, 20, 25, 30, 35, 40, 45, 6, 12, 18, 24, 30, 36, 42, 48, 54, 7, 14, 21, 28, 35, 42, 49, 56, 63, 8, 16, 24, 32, 40, 48, 56, 64, 72, 9, 18, 27, 36, 45, 54, 63, 72, 81]\n"
     ]
    }
   ],
   "source": [
    "# 구구단 \n",
    "a = [ i * k for i in range(2, 10) for k in range(1, 10) ]\n",
    "print(a)"
   ]
  },
  {
   "cell_type": "code",
   "execution_count": 52,
   "metadata": {},
   "outputs": [
    {
     "name": "stdout",
     "output_type": "stream",
     "text": [
      "[2, 4, 6, 8, 10, 12, 14, 16, 18, 3, 6, 9, 12, 15, 18, 21, 24, 27, 4, 8, 12, 16, 20, 24, 28, 32, 36, 5, 10, 15, 20, 25, 30, 35, 40, 45, 6, 12, 18, 24, 30, 36, 42, 48, 54, 7, 14, 21, 28, 35, 42, 49, 56, 63, 8, 16, 24, 32, 40, 48, 56, 64, 72, 9, 18, 27, 36, 45, 54, 63, 72, 81]\n"
     ]
    }
   ],
   "source": [
    "a = [ i * k for i in range(2, 10)\n",
    "                for k in range(1, 10)]\n",
    "print(a)"
   ]
  },
  {
   "attachments": {},
   "cell_type": "markdown",
   "metadata": {},
   "source": [
    "- 딕셔너리 표현식"
   ]
  },
  {
   "cell_type": "code",
   "execution_count": 53,
   "metadata": {},
   "outputs": [],
   "source": [
    "d = {'a': 1, 'b' : 2, 'c' : 3, 'd' : 4}"
   ]
  },
  {
   "cell_type": "code",
   "execution_count": 56,
   "metadata": {},
   "outputs": [
    {
     "name": "stdout",
     "output_type": "stream",
     "text": [
      "{'b': 2, 'd': 4}\n"
     ]
    }
   ],
   "source": [
    "# 값이 짝수인 놈의 딕셔너리\n",
    "even_dict = { key:value for key, value in d.items() if value % 2 == 0 }\n",
    "print(even_dict)"
   ]
  },
  {
   "cell_type": "code",
   "execution_count": 57,
   "metadata": {},
   "outputs": [
    {
     "name": "stdout",
     "output_type": "stream",
     "text": [
      "{'b': 2, 'd': 4}\n"
     ]
    }
   ],
   "source": [
    "even_dict = {}\n",
    "for key, value in d.items():\n",
    "    if value % 2 == 0:\n",
    "        even_dict[key] = value\n",
    "print(even_dict)"
   ]
  },
  {
   "cell_type": "code",
   "execution_count": 60,
   "metadata": {},
   "outputs": [
    {
     "data": {
      "text/plain": [
       "{0: 192,\n",
       " 1: 301,\n",
       " 2: 300,\n",
       " 3: 300,\n",
       " 4: 300,\n",
       " 5: 300,\n",
       " 6: 300,\n",
       " 7: 300,\n",
       " 8: 300,\n",
       " 9: 300}"
      ]
     },
     "execution_count": 60,
     "metadata": {},
     "output_type": "execute_result"
    }
   ],
   "source": [
    "# 1 에서 1000까지 숫자에서 0, 1, ..., 9는 몇번 사용되는가\n",
    "digits = ''\n",
    "for i in range(1, 1001):\n",
    "    digits += str(i)\n",
    "\n",
    "num_count = {i:digits.count(str(i)) for i in range(10)}\n",
    "num_count\n",
    "\n"
   ]
  },
  {
   "cell_type": "code",
   "execution_count": 61,
   "metadata": {},
   "outputs": [
    {
     "data": {
      "text/plain": [
       "{0: 192,\n",
       " 1: 301,\n",
       " 2: 300,\n",
       " 3: 300,\n",
       " 4: 300,\n",
       " 5: 300,\n",
       " 6: 300,\n",
       " 7: 300,\n",
       " 8: 300,\n",
       " 9: 300}"
      ]
     },
     "execution_count": 61,
     "metadata": {},
     "output_type": "execute_result"
    }
   ],
   "source": [
    "num_count = {}\n",
    "for i in range(10):\n",
    "    num_count[i] = digits.count(str(i))\n",
    "num_count"
   ]
  },
  {
   "cell_type": "code",
   "execution_count": null,
   "metadata": {},
   "outputs": [],
   "source": []
  }
 ],
 "metadata": {
  "kernelspec": {
   "display_name": "base",
   "language": "python",
   "name": "python3"
  },
  "language_info": {
   "codemirror_mode": {
    "name": "ipython",
    "version": 3
   },
   "file_extension": ".py",
   "mimetype": "text/x-python",
   "name": "python",
   "nbconvert_exporter": "python",
   "pygments_lexer": "ipython3",
   "version": "3.10.9"
  },
  "orig_nbformat": 4
 },
 "nbformat": 4,
 "nbformat_minor": 2
}
