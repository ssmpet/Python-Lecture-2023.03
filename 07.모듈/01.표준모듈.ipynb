{
 "cells": [
  {
   "attachments": {},
   "cell_type": "markdown",
   "metadata": {},
   "source": [
    "### 7-1. 표준 모듈"
   ]
  },
  {
   "attachments": {},
   "cell_type": "markdown",
   "metadata": {},
   "source": [
    "- math"
   ]
  },
  {
   "cell_type": "code",
   "execution_count": 2,
   "metadata": {},
   "outputs": [],
   "source": [
    "import math"
   ]
  },
  {
   "cell_type": "code",
   "execution_count": 4,
   "metadata": {},
   "outputs": [
    {
     "data": {
      "text/plain": [
       "(1.0, 6.123233995736766e-17)"
      ]
     },
     "execution_count": 4,
     "metadata": {},
     "output_type": "execute_result"
    }
   ],
   "source": [
    "math.sin(math.pi/2), math.cos(math.pi/2)"
   ]
  },
  {
   "cell_type": "code",
   "execution_count": 5,
   "metadata": {},
   "outputs": [
    {
     "data": {
      "text/plain": [
       "(1.0, 6.123233995736766e-17)"
      ]
     },
     "execution_count": 5,
     "metadata": {},
     "output_type": "execute_result"
    }
   ],
   "source": [
    "from math import sin, cos\n",
    "\n",
    "sin(math.pi/2), cos(math.pi/2)"
   ]
  },
  {
   "cell_type": "code",
   "execution_count": 7,
   "metadata": {},
   "outputs": [
    {
     "data": {
      "text/plain": [
       "(1.2246467991473532e-16, -1.0)"
      ]
     },
     "execution_count": 7,
     "metadata": {},
     "output_type": "execute_result"
    }
   ],
   "source": [
    "import math as m   # as: alias 약칭\n",
    "m.sin(m.pi), m.cos(m.pi)"
   ]
  },
  {
   "attachments": {},
   "cell_type": "markdown",
   "metadata": {},
   "source": [
    "- random"
   ]
  },
  {
   "cell_type": "code",
   "execution_count": 9,
   "metadata": {},
   "outputs": [
    {
     "data": {
      "text/plain": [
       "(0.22799957206102817, 4)"
      ]
     },
     "execution_count": 9,
     "metadata": {},
     "output_type": "execute_result"
    }
   ],
   "source": [
    "import random as rd\n",
    "rd.random(), rd.randint(1, 6)"
   ]
  },
  {
   "cell_type": "code",
   "execution_count": 12,
   "metadata": {},
   "outputs": [
    {
     "data": {
      "text/plain": [
       "(15.825020601136135, 9)"
      ]
     },
     "execution_count": 12,
     "metadata": {},
     "output_type": "execute_result"
    }
   ],
   "source": [
    "# 실수값, 정수값\n",
    "rd.uniform(10, 20), rd.randrange(10)"
   ]
  },
  {
   "cell_type": "code",
   "execution_count": 15,
   "metadata": {},
   "outputs": [
    {
     "data": {
      "text/plain": [
       "(5, [1, 5, 4])"
      ]
     },
     "execution_count": 15,
     "metadata": {},
     "output_type": "execute_result"
    }
   ],
   "source": [
    "a = [1, 2, 3, 4, 5]\n",
    "# a에서 1 개 추출, 3개 추출\n",
    "rd.choice(a), rd.sample(a, 3)"
   ]
  },
  {
   "cell_type": "code",
   "execution_count": 18,
   "metadata": {},
   "outputs": [
    {
     "data": {
      "text/plain": [
       "[1, 3, 5, 2, 4]"
      ]
     },
     "execution_count": 18,
     "metadata": {},
     "output_type": "execute_result"
    }
   ],
   "source": [
    "# 섞는다\n",
    "rd.shuffle(a)\n",
    "a"
   ]
  },
  {
   "attachments": {},
   "cell_type": "markdown",
   "metadata": {},
   "source": [
    "- os 모듈"
   ]
  },
  {
   "cell_type": "code",
   "execution_count": 20,
   "metadata": {},
   "outputs": [
    {
     "data": {
      "text/plain": [
       "('nt', 'd:\\\\Workspace\\\\02.Python\\\\07.모듈')"
      ]
     },
     "execution_count": 20,
     "metadata": {},
     "output_type": "execute_result"
    }
   ],
   "source": [
    "import os\n",
    "\n",
    "# os 이름, 현재위치\n",
    "os.name, os.getcwd()"
   ]
  },
  {
   "cell_type": "code",
   "execution_count": 22,
   "metadata": {},
   "outputs": [
    {
     "data": {
      "text/plain": [
       "['01.sys.py', '01.표준모듈.ipynb']"
      ]
     },
     "execution_count": 22,
     "metadata": {},
     "output_type": "execute_result"
    }
   ],
   "source": [
    "# 현재 폴더의 요소\n",
    "os.listdir()"
   ]
  },
  {
   "cell_type": "code",
   "execution_count": 30,
   "metadata": {},
   "outputs": [
    {
     "data": {
      "text/plain": [
       "['01.sys.py', '01.표준모듈.ipynb', 'test']"
      ]
     },
     "execution_count": 30,
     "metadata": {},
     "output_type": "execute_result"
    }
   ],
   "source": [
    "try:\n",
    "    os.mkdir('test')\n",
    "except :\n",
    "    pass\n",
    "\n",
    "os.listdir()"
   ]
  },
  {
   "cell_type": "code",
   "execution_count": 31,
   "metadata": {},
   "outputs": [],
   "source": [
    "try:\n",
    "    os.rmdir('test')  # 디렉토리가 비어 있어야만 삭제 가능\n",
    "except:\n",
    "    pass"
   ]
  },
  {
   "cell_type": "code",
   "execution_count": 32,
   "metadata": {},
   "outputs": [
    {
     "data": {
      "text/plain": [
       "['01.sys.py', '01.표준모듈.ipynb']"
      ]
     },
     "execution_count": 32,
     "metadata": {},
     "output_type": "execute_result"
    }
   ],
   "source": [
    "os.listdir()"
   ]
  },
  {
   "cell_type": "code",
   "execution_count": 51,
   "metadata": {},
   "outputs": [],
   "source": [
    "# 디렉토리가 없으면 새로 만들어 줌\n",
    "dir_name = 'test'\n",
    "if not os.path.exists(dir_name):\n",
    "    os.mkdir(dir_name)"
   ]
  },
  {
   "cell_type": "code",
   "execution_count": 52,
   "metadata": {},
   "outputs": [
    {
     "name": "stdout",
     "output_type": "stream",
     "text": [
      "['a.txt', 'b.txt']\n"
     ]
    }
   ],
   "source": [
    "print(os.listdir(dir_name))"
   ]
  },
  {
   "cell_type": "code",
   "execution_count": 57,
   "metadata": {},
   "outputs": [
    {
     "ename": "FileNotFoundError",
     "evalue": "[WinError 2] 지정된 파일을 찾을 수 없습니다: 'test/b.txt'",
     "output_type": "error",
     "traceback": [
      "\u001b[1;31m---------------------------------------------------------------------------\u001b[0m",
      "\u001b[1;31mFileNotFoundError\u001b[0m                         Traceback (most recent call last)",
      "Cell \u001b[1;32mIn[57], line 1\u001b[0m\n\u001b[1;32m----> 1\u001b[0m os\u001b[39m.\u001b[39;49mremove(dir_name \u001b[39m+\u001b[39;49m \u001b[39m'\u001b[39;49m\u001b[39m/\u001b[39;49m\u001b[39m'\u001b[39;49m \u001b[39m+\u001b[39;49m \u001b[39m'\u001b[39;49m\u001b[39mb.txt\u001b[39;49m\u001b[39m'\u001b[39;49m)\n\u001b[0;32m      2\u001b[0m os\u001b[39m.\u001b[39mlistdir(dir_name)\n",
      "\u001b[1;31mFileNotFoundError\u001b[0m: [WinError 2] 지정된 파일을 찾을 수 없습니다: 'test/b.txt'"
     ]
    }
   ],
   "source": [
    "os.remove(dir_name + '/' + 'b.txt')\n"
   ]
  },
  {
   "cell_type": "code",
   "execution_count": 59,
   "metadata": {},
   "outputs": [],
   "source": [
    "os.listdir(dir_name)\n",
    "os.rmdir(dir_name)"
   ]
  },
  {
   "cell_type": "code",
   "execution_count": 61,
   "metadata": {},
   "outputs": [
    {
     "data": {
      "text/plain": [
       "['01.sys.py', '01.표준모듈.ipynb', 'text']"
      ]
     },
     "execution_count": 61,
     "metadata": {},
     "output_type": "execute_result"
    }
   ],
   "source": [
    "os.listdir()"
   ]
  },
  {
   "cell_type": "code",
   "execution_count": 64,
   "metadata": {},
   "outputs": [
    {
     "name": "stdout",
     "output_type": "stream",
     "text": [
      "c:\\Users\\YONSAI\\anaconda3\n",
      "C:\\Users\\YONSAI\\anaconda3\n",
      "C:\\Users\\YONSAI\\anaconda3\\Library\\mingw-w64\\bin\n",
      "C:\\Users\\YONSAI\\anaconda3\\Library\\usr\\bin\n",
      "C:\\Users\\YONSAI\\anaconda3\\Library\\bin\n",
      "C:\\Users\\YONSAI\\anaconda3\\Scripts\n",
      "C:\\Users\\YONSAI\\anaconda3\\bin\n",
      "C:\\Users\\YONSAI\\anaconda3\\condabin\n",
      "C:\\Program Files (x86)\\Common Files\\Intel\\Shared Libraries\\redist\\intel64\\compiler\n",
      "C:\\Windows\\system32\n",
      "C:\\Windows\n",
      "C:\\Windows\\System32\\Wbem\n",
      "C:\\Windows\\System32\\WindowsPowerShell\\v1.0\n",
      "C:\\Windows\\System32\\OpenSSH\n",
      "C:\\Program Files (x86)\\Microsoft SQL Server\\110\\Tools\\Binn\n",
      "C:\\Program Files\\Microsoft SQL Server\\110\\Tools\\Binn\n",
      "C:\\Program Files\\Microsoft SQL Server\\110\\DTS\\Binn\n",
      "C:\\Program Files (x86)\\Microsoft SQL Server\\100\\Tools\\Binn\n",
      "C:\\Program Files\\Microsoft SQL Server\\100\\Tools\\Binn\n",
      "C:\\Program Files\\Microsoft SQL Server\\100\\DTS\\Binn\n",
      "C:\\Program Files\\Git\\cmd\n",
      "C:\\Program Files\\nodejs\n",
      "C:\\Users\\YONSAI\\AppData\\Local\\Programs\\Python\\Python311\\Scripts\n",
      "C:\\Users\\YONSAI\\AppData\\Local\\Programs\\Python\\Python311\n",
      "C:\\Users\\YONSAI\\AppData\\Local\\Microsoft\\WindowsApps\n",
      "C:\\Users\\YONSAI\\AppData\\Local\\Programs\\Microsoft VS Code\\bin\n",
      "C:\\Users\\YONSAI\\AppData\\Roaming\\npm\n",
      "C:\\Users\\YONSAI\\anaconda3\\Library\\mingw-w64\\bin\n",
      "C:\\Users\\YONSAI\\anaconda3\\Library\\usr\\bin\n",
      "C:\\Users\\YONSAI\\anaconda3\\Library\\bin\n",
      "C:\\Users\\YONSAI\\anaconda3\\Scripts\n",
      ".\n"
     ]
    }
   ],
   "source": [
    "paths = os.environ['PATH']\n",
    "for path in paths.split(';'):\n",
    "    print(path)"
   ]
  },
  {
   "attachments": {},
   "cell_type": "markdown",
   "metadata": {},
   "source": [
    "- datetime 모듈"
   ]
  },
  {
   "cell_type": "code",
   "execution_count": 66,
   "metadata": {},
   "outputs": [
    {
     "name": "stdout",
     "output_type": "stream",
     "text": [
      "2023-04-06 10:49:58\n"
     ]
    }
   ],
   "source": [
    "import datetime as dt \n",
    "\n",
    "now = dt.datetime.now()\n",
    "print(f'{now.year}-{now.month:02d}-{now.day:02d} {now.hour:02d}:{now.minute:02d}:{now.second:02d}')"
   ]
  },
  {
   "cell_type": "code",
   "execution_count": 68,
   "metadata": {},
   "outputs": [
    {
     "name": "stdout",
     "output_type": "stream",
     "text": [
      "2023-04-06 10:49:58\n"
     ]
    }
   ],
   "source": [
    "print(now.strftime('%Y-%m-%d %H:%M:%S'))"
   ]
  },
  {
   "cell_type": "code",
   "execution_count": 70,
   "metadata": {},
   "outputs": [
    {
     "name": "stdout",
     "output_type": "stream",
     "text": [
      "목\n"
     ]
    }
   ],
   "source": [
    "names = '월 화 수 목 금 토 일'.split()\n",
    "print(names[now.weekday()])"
   ]
  },
  {
   "cell_type": "code",
   "execution_count": 72,
   "metadata": {},
   "outputs": [
    {
     "name": "stdout",
     "output_type": "stream",
     "text": [
      "2023-04-06(목) 11:09:18\n"
     ]
    }
   ],
   "source": [
    "now = dt.datetime.now()\n",
    "print(now.strftime('%Y-%m-%d') + f'({names[now.weekday()]}) ' + now.strftime('%H:%M:%S'))"
   ]
  },
  {
   "cell_type": "code",
   "execution_count": 73,
   "metadata": {},
   "outputs": [
    {
     "name": "stdout",
     "output_type": "stream",
     "text": [
      "2023-07-15(토) 11:09:18\n"
     ]
    }
   ],
   "source": [
    "# 특정 시간 이후의 시간 구하기 100일 후 \n",
    "after = now + dt.timedelta(days=100)\n",
    "print(after.strftime('%Y-%m-%d') + f'({names[after.weekday()]}) ' + after.strftime('%H:%M:%S'))"
   ]
  },
  {
   "cell_type": "code",
   "execution_count": 74,
   "metadata": {},
   "outputs": [
    {
     "name": "stdout",
     "output_type": "stream",
     "text": [
      "2023-05-01(월) 21:29:28\n"
     ]
    }
   ],
   "source": [
    "after = now + dt.timedelta(weeks=3, days=4, hours=10, minutes=20, seconds=10)\n",
    "print(after.strftime('%Y-%m-%d') + f'({names[after.weekday()]}) ' + after.strftime('%H:%M:%S'))"
   ]
  },
  {
   "attachments": {},
   "cell_type": "markdown",
   "metadata": {},
   "source": [
    "- time 모듈"
   ]
  },
  {
   "cell_type": "code",
   "execution_count": 1,
   "metadata": {},
   "outputs": [
    {
     "name": "stdout",
     "output_type": "stream",
     "text": [
      "지금부터 5초간 정지합니다.\n",
      "5초가 경과했습니다.\n"
     ]
    }
   ],
   "source": [
    "import time\n",
    "\n",
    "print('지금부터 5초간 정지합니다.')\n",
    "# time.sleep(5)\n",
    "print('5초가 경과했습니다.')"
   ]
  },
  {
   "cell_type": "code",
   "execution_count": 5,
   "metadata": {},
   "outputs": [
    {
     "name": "stdout",
     "output_type": "stream",
     "text": [
      "15 0 14\n"
     ]
    }
   ],
   "source": [
    "c_time = time.localtime()\n",
    "print(c_time.tm_hour, c_time.tm_min, c_time.tm_sec)"
   ]
  },
  {
   "attachments": {},
   "cell_type": "markdown",
   "metadata": {},
   "source": [
    "- urllib 모듈"
   ]
  },
  {
   "cell_type": "code",
   "execution_count": 77,
   "metadata": {},
   "outputs": [],
   "source": [
    "from urllib import request\n",
    "\n",
    "target = request.urlopen('http://www.google.com')\n",
    "output = target.test()"
   ]
  },
  {
   "cell_type": "code",
   "execution_count": 78,
   "metadata": {},
   "outputs": [
    {
     "name": "stdout",
     "output_type": "stream",
     "text": [
      "b'<!doctype html><html itemscope=\"\" itemtype=\"http://schema.org/WebPage\" lang=\"ko\"><head><meta content=\"text/html; charset=UTF-8\" http-equiv=\"Content-Type\"><meta content=\"/images/branding/googleg/1x/googleg_standard_color_128dp.png\" itemprop=\"image\"><title>Google</title><script nonce=\"45mVfQYXvefikUt8l58giQ\">(function(){window.google={kEI:\\'2iwuZN7JMZ397_UPsJqKkAU\\',kEXPI:\\'0,1359409,6058,207,4804,2316,383,246,5,1129120,1197708,693,380089,16115,28684,22430,1362,12318,2817,14764,4998,13228,1837,2010,38444,887,1985,2891,4139,4209,3406,606,60690,6397,9359,3,576,20583,4,1528,2304,13384,28743,11443,2215,4437,16786,5827,2530,4094,7596,1,42154,2,14022,23984,1755,5679,1021,31122,4568,6255,23421,1249,5838,14968,4332,19,7465,445,2,2,1,24626,2006,8155,7381,15970,873,7828,11805,7,1922,9779,21390,14764,6305,20199,17618,2518,14,82,20206,1622,1779,669,3210,1097,1746,11382,1763,4069,4412,991,2266,764,427,5202,482,11001,508,8229,1150,1093,493,1264,96,1032,449,6708,498,695,5742,4894,127,4,208,415,2485,2,645,'\n"
     ]
    }
   ],
   "source": [
    "print(output[:1000])"
   ]
  },
  {
   "cell_type": "code",
   "execution_count": 82,
   "metadata": {},
   "outputs": [
    {
     "name": "stdout",
     "output_type": "stream",
     "text": [
      "<!DOCTYPE html>\n",
      "<html lang=\"ko\">\n",
      "<head>\n",
      "<!--[if lte IE 8]>\n",
      "<script>\n",
      "  location.replace('/support/explorer_upgrade.html');\n",
      "</script>\n",
      "<![endif]-->\n",
      "<meta charset=\"utf-8\"/>\n",
      "<title>한빛출판네트워크</title>\n",
      "<link rel=\"shortcut icon\" href=\"https://www.hanbit.co.kr/images/common/hanbit.ico\"> \n",
      "<meta http-equiv=\"X-UA-Compatible\" content=\"IE=Edge\" />\n",
      "<meta property=\"og:type\" content=\"website\"/>\n",
      "<meta property=\"og:title\" content=\"한빛출판네트워크\"/>\n",
      "<meta property=\"og:description\" content=\"더 넓은 세상, 더 나은 미래를 위한 아시아 출판 네트워크 :: 한빛미디어, 한빛아카데미, 한빛비즈, 한빛라이프, 한빛에듀\"/>\n",
      "<meta property=\"og:image\" content=\"https://www.hanbit.co.kr/images/hanbitpubnet_logo.jpg\" />\n",
      "<meta property=\"og:url\" content=\"https://www.hanbit.co.kr/store/store_submain.html\"/>\n",
      "<link rel=\"canonical\" href=\"https://www.hanbit.co.kr/store/store_submain.html\" />\n",
      "<meta name=\"keywords\" content=\"한빛미디어,한빛아카데미,한빛비즈,한빛라이프,한빛에듀,리얼타임,대관서비스,책,출판사,IT전문서,IT활용서,대학교재,경제경영,어린이/유아,실용/여행,전자책,자격증,교육,세미나,강의,ebook,정보교과서\" />\n",
      "<meta name=\"description\" content=\"더\n"
     ]
    }
   ],
   "source": [
    "import requests\n",
    "\n",
    "rq = requests.get('https://www.hanbit.co.kr/store/store_submain.html')\n",
    "print(rq.text[:1000])"
   ]
  }
 ],
 "metadata": {
  "kernelspec": {
   "display_name": "base",
   "language": "python",
   "name": "python3"
  },
  "language_info": {
   "codemirror_mode": {
    "name": "ipython",
    "version": 3
   },
   "file_extension": ".py",
   "mimetype": "text/x-python",
   "name": "python",
   "nbconvert_exporter": "python",
   "pygments_lexer": "ipython3",
   "version": "3.10.10"
  },
  "orig_nbformat": 4
 },
 "nbformat": 4,
 "nbformat_minor": 2
}
