{
 "cells": [
  {
   "attachments": {},
   "cell_type": "markdown",
   "metadata": {},
   "source": [
    "### 코딩 도장 23.7 심사문제 : 지뢰찾기"
   ]
  },
  {
   "cell_type": "code",
   "execution_count": 67,
   "metadata": {},
   "outputs": [
    {
     "name": "stdout",
     "output_type": "stream",
     "text": [
      "[['.', '.', '.', '.'], ['.', '.', '*', '.'], ['*', '.', '.', '.'], ['*', '*', '.', '.']]\n"
     ]
    }
   ],
   "source": [
    "from pprint import pprint\n",
    "\n",
    "cols, rows = map(int, input().split())\n",
    "matrix = []\n",
    "for i in range(rows):\n",
    "    matrix.append(list(input()))\n",
    "\n",
    "print(matrix)"
   ]
  },
  {
   "cell_type": "code",
   "execution_count": 90,
   "metadata": {},
   "outputs": [],
   "source": [
    "# 리스트 출력해 주는 함수\n",
    "def show_matrix(m_list):\n",
    "    for i in range(len(m_list)):\n",
    "        for k in range(len(m_list[i])):\n",
    "            print(m_list[i][k], end=' ')\n",
    "        print()"
   ]
  },
  {
   "cell_type": "code",
   "execution_count": 101,
   "metadata": {},
   "outputs": [],
   "source": [
    "# 리스트 확장시켜주는 함수\n",
    "def extend_matrix(m_list):\n",
    "    \n",
    "    row = len(m_list)\n",
    "    col = len(m_list[0])\n",
    "    extend_matrix = [['.' for _ in range(col + 2)] for _ in range(row + 2)]\n",
    "\n",
    "    for index, element in enumerate(m_list):\n",
    "        extend_matrix[index + 1][1 : col + 1] =  element\n",
    "    \n",
    "    return extend_matrix"
   ]
  },
  {
   "cell_type": "code",
   "execution_count": 97,
   "metadata": {},
   "outputs": [
    {
     "name": "stdout",
     "output_type": "stream",
     "text": [
      ". . . . . \n",
      ". 2 3 * . \n",
      ". * * 2 . \n",
      ". * 3 1 . \n",
      ". . . . . \n",
      "--------------------\n",
      ". . . . . \n",
      ". 2 3 * . \n",
      ". * * 2 . \n",
      ". * 3 1 . \n",
      ". . . . . \n",
      "-------result-------\n",
      "2 3 * \n",
      "* * 2 \n",
      "* 3 1 \n"
     ]
    }
   ],
   "source": [
    "\n",
    "ex_matrix = extend_matrix(matrix)\n",
    "\n",
    "# ex_matrix = [['.' for _ in range(cols+2)] for _ in range(rows+2)]\n",
    "\n",
    "# for index, element in enumerate(matrix):\n",
    "#     ex_matrix[index + 1][1 : cols + 1] =  element\n",
    "\n",
    "show_matrix(ex_matrix)\n",
    "\n",
    "for row in range(1, rows + 1):\n",
    "    for col in range(1, cols + 1):\n",
    "        if ex_matrix[row][col] == '*':\n",
    "            continue\n",
    "\n",
    "        count = 0\n",
    "        for x in range(-1, 2):\n",
    "            for y in range(-1, 2):\n",
    "                if ex_matrix[row + x][col + y] == '*' and (x != 0 or y != 0) :\n",
    "                    count += 1\n",
    "        ex_m[row][col] = count\n",
    "        \n",
    "\n",
    "print('--------------------')\n",
    "show_matrix(ex_matrix)\n",
    "print('-------result-------')\n",
    "\n",
    "matrix = [ [ex_matrix[row][col] for col in range(1, cols+1)] for row in range(1, rows+1)]\n",
    "\n",
    "show_matrix(matrix)"
   ]
  },
  {
   "cell_type": "code",
   "execution_count": 93,
   "metadata": {},
   "outputs": [
    {
     "name": "stdout",
     "output_type": "stream",
     "text": [
      "23*\n",
      "**2\n",
      "*31\n"
     ]
    }
   ],
   "source": [
    "cols, rows = map(int, input().split())\n",
    "\n",
    "matrix = []\n",
    "for i in range(rows):\n",
    "    matrix.append(list(input()))\n",
    "    \n",
    "ex_matrix = [['.' for _ in range(cols+2)] for _ in range(rows+2)]\n",
    "\n",
    "for index, element in enumerate(matrix):\n",
    "    ex_matrix[index + 1][1 : cols + 1] =  element\n",
    "    \n",
    "for row in range(1, rows+1):\n",
    "    for col in range(1, cols+1):\n",
    "        if ex_matrix[row][col] == '*':\n",
    "            continue\n",
    "\n",
    "        count = 0\n",
    "        for x in range(-1, 2):\n",
    "            for y in range(-1, 2):\n",
    "                if ex_matrix[row + x][col + y] == '*' and (x != 0 or y != 0) :\n",
    "                    count += 1\n",
    "        ex_matrix[row][col] = count\n",
    "            \n",
    "matrix = [ [ex_matrix[row][col] for col in range(1, cols+1)] for row in range(1, rows+1)]\n",
    "\n",
    "for row in range(rows):\n",
    "    for col in range(cols):\n",
    "        print(matrix[row][col], end='')\n",
    "    print()\n",
    "    "
   ]
  },
  {
   "cell_type": "code",
   "execution_count": 32,
   "metadata": {},
   "outputs": [
    {
     "name": "stdout",
     "output_type": "stream",
     "text": [
      "* . . . . . . . \n",
      ". . . . . . * . \n",
      ". . . * * * . . \n",
      "* * . . * . . * \n",
      "* * . . . . . . \n",
      ". . * * . . * . \n",
      ". . * . . . . * \n",
      ". * * . . . . * \n"
     ]
    }
   ],
   "source": [
    "# random() > 0.7  -->(*), 아니면 .\n",
    "# 8 X 8 크기\n",
    "# mines = [ ['.' for _ in range(8)] for _ in range(8) if random() > 0.7 ]\n",
    "from pprint import pprint\n",
    "import random\n",
    "\n",
    "mines = []\n",
    "\n",
    "for _ in range(8):\n",
    "    in_mine = []\n",
    "    for _ in range(8):\n",
    "        val = random.random()\n",
    "        if val > 0.7 : \n",
    "            in_mine.append('*')\n",
    "        else: \n",
    "            in_mine.append('.')\n",
    "    mines.append(in_mine)\n",
    "\n",
    "for i in range(8):\n",
    "    for k in range(8):\n",
    "        print(mines[i][k], end=' ')\n",
    "    print()\n",
    "\n"
   ]
  },
  {
   "cell_type": "code",
   "execution_count": 142,
   "metadata": {},
   "outputs": [],
   "source": [
    "def exe_mines(mines):\n",
    "\n",
    "   \n",
    "    rows = len(mines) - 1\n",
    "\n",
    "    for row in range(1, rows):\n",
    "        \n",
    "        cols = len(mines[row]) - 1\n",
    "        for col in range(1, cols):\n",
    "            \n",
    "            if mines[row][col] == '*':\n",
    "                continue\n",
    "\n",
    "            count = 0\n",
    "            for x in range(-1, 2):\n",
    "                for y in range(-1, 2):\n",
    "                    if mines[row + x][col + y] == '*' and (x != 0 or y != 0) :\n",
    "                        count += 1\n",
    "            mines[row][col] = count\n",
    "        \n",
    "    return mines"
   ]
  },
  {
   "cell_type": "code",
   "execution_count": 153,
   "metadata": {},
   "outputs": [
    {
     "name": "stdout",
     "output_type": "stream",
     "text": [
      ". . * * \n",
      "* . * . \n",
      ". . . . \n",
      ". * . . \n",
      "------------------------\n",
      "1 3 * * \n",
      "* 3 * 3 \n",
      "2 3 2 1 \n",
      "1 * 1 0 \n"
     ]
    }
   ],
   "source": [
    "cols, rows = 4, 4\n",
    "\n",
    "mines = [ ['*' if random.random() > 0.7 else '.' for _ in range(cols) ] for _ in range(rows)]\n",
    "\n",
    "show_matrix(mines)\n",
    "\n",
    "ex_mines = extend_matrix(mines)\n",
    "\n",
    "mines = exe_mines(ex_mines)\n",
    "\n",
    "print('------------------------')\n",
    "\n",
    "mines = [ [mines[row][col] for col in range(1, cols+1)] for row in range(1, rows+1)]\n",
    "\n",
    "\n",
    "show_matrix(mines)\n"
   ]
  },
  {
   "cell_type": "code",
   "execution_count": null,
   "metadata": {},
   "outputs": [],
   "source": []
  },
  {
   "cell_type": "code",
   "execution_count": 152,
   "metadata": {},
   "outputs": [
    {
     "name": "stdout",
     "output_type": "stream",
     "text": [
      "217\n"
     ]
    }
   ],
   "source": [
    "num1, num2 = map(int, input().split())\n",
    "\n",
    "a = {i for i in range(1, num1+1) if num1%i == 0}\n",
    "b = {i for i in range(1, num2+1) if num2%i == 0}\n",
    "\n",
    "divisor = a & b\n",
    "\n",
    "result = 0\n",
    "if type(divisor) == set:\n",
    "    result = sum(divisor)\n",
    "    \n",
    "print(result)"
   ]
  },
  {
   "cell_type": "code",
   "execution_count": null,
   "metadata": {},
   "outputs": [],
   "source": []
  }
 ],
 "metadata": {
  "kernelspec": {
   "display_name": "base",
   "language": "python",
   "name": "python3"
  },
  "language_info": {
   "codemirror_mode": {
    "name": "ipython",
    "version": 3
   },
   "file_extension": ".py",
   "mimetype": "text/x-python",
   "name": "python",
   "nbconvert_exporter": "python",
   "pygments_lexer": "ipython3",
   "version": "3.10.9"
  },
  "orig_nbformat": 4
 },
 "nbformat": 4,
 "nbformat_minor": 2
}
