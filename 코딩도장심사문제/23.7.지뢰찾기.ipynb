{
 "cells": [
  {
   "attachments": {},
   "cell_type": "markdown",
   "metadata": {},
   "source": [
    "### 코딩 도장 23.7 심사문제 : 지뢰찾기"
   ]
  },
  {
   "cell_type": "code",
   "execution_count": 10,
   "metadata": {},
   "outputs": [
    {
     "name": "stdout",
     "output_type": "stream",
     "text": [
      "[['.', '.', '.', '.'], ['.', '.', '*', '.'], ['*', '*', '.', '.'], ['.', '.', '.', '*']]\n"
     ]
    }
   ],
   "source": [
    "from pprint import pprint\n",
    "\n",
    "col, row = map(int, input().split())\n",
    "matrix = []\n",
    "for i in range(row):\n",
    "    matrix.append(list(input()))\n",
    "\n",
    "print(matrix)"
   ]
  },
  {
   "cell_type": "code",
   "execution_count": 13,
   "metadata": {},
   "outputs": [],
   "source": [
    "matrix = [['.', '.', '.', '.'], \n",
    "          ['.', '.', '*', '.'], \n",
    "          ['*', '*', '.', '.'], \n",
    "          ['.', '.', '.', '*']]"
   ]
  },
  {
   "cell_type": "code",
   "execution_count": 26,
   "metadata": {},
   "outputs": [
    {
     "name": "stdout",
     "output_type": "stream",
     "text": [
      "[['.', '.', '.', '.', '.', '.'], ['.', '.', '.', '.', '.', '.'], ['.', '.', '.', '*', '.', '.'], ['.', '*', '*', '.', '.', '.'], ['.', '.', '.', '.', '*', '.'], ['.', '.', '.', '.', '.', '.']]\n",
      ". . . . \n",
      ". . * . \n",
      "* * . . \n",
      ". . . * \n"
     ]
    }
   ],
   "source": [
    "col, row = 4, 4\n",
    "ex_m = [['.' for _ in range(row+2)] for _ in range(col+2)]\n",
    "\n",
    "for index, element in enumerate(matrix):\n",
    "    ex_m[index+1][1:col+1] =  element\n",
    "\n",
    "print(ex_m)\n",
    "\n",
    "for r in range(1, row+1):\n",
    "    for c in range(1, col+1):\n",
    "        print(ex_m[r][c], end=' ')\n",
    "        if ex_m[r][c] == '.':\n",
    "            count = 0\n",
    "            for x in range(-1, 2):\n",
    "                for y in range(-1, 2):\n",
    "                    if x != 0 or y != 0:\n",
    "                        if ex_m[r+x][c+y] == '*':\n",
    "                            count += 1\n",
    "            ex_m[r][c] = count\n",
    "        \n",
    "    print()\n"
   ]
  },
  {
   "cell_type": "code",
   "execution_count": 32,
   "metadata": {},
   "outputs": [
    {
     "name": "stdout",
     "output_type": "stream",
     "text": [
      ". . * . . . * . \n",
      "* . . . . . . . \n",
      ". . . . * * . . \n",
      "* . . . * . * * \n",
      ". * . . . * . . \n",
      ". . . * * . . . \n",
      ". * . . . * . . \n",
      ". . . . . * . . \n"
     ]
    }
   ],
   "source": [
    "# random() > 0.7  -->(*), 아니면 .\n",
    "# 8 X 8 크기\n",
    "# mines = [ ['.' for _ in range(8)] for _ in range(8) if random() > 0.7 ]\n",
    "from pprint import pprint\n",
    "import random\n",
    "\n",
    "mines = []\n",
    "\n",
    "for _ in range(8):\n",
    "    in_mine = []\n",
    "    for _ in range(8):\n",
    "        val = random.random()\n",
    "        if val > 0.7 : \n",
    "            in_mine.append('*')\n",
    "        else: \n",
    "            in_mine.append('.')\n",
    "    mines.append(in_mine)\n",
    "\n",
    "for i in range(8):\n",
    "    for k in range(8):\n",
    "        print(mines[i][k], end=' ')\n",
    "    print()\n",
    "\n"
   ]
  },
  {
   "cell_type": "code",
   "execution_count": 35,
   "metadata": {},
   "outputs": [
    {
     "name": "stdout",
     "output_type": "stream",
     "text": [
      ". . * . * * . . \n",
      ". . . . . . * . \n",
      ". . * . . * . . \n",
      "* . * . . . . . \n",
      ". . . . . * . . \n",
      "* . . * . . * . \n",
      ". * * . . * . . \n",
      ". . . . . . . * \n"
     ]
    }
   ],
   "source": [
    "mines = [ ['*' if random.random() > 0.7 else '.' for _ in range(8) ] for _ in range(8)]\n",
    "\n",
    "for i in range(8):\n",
    "    for k in range(8):\n",
    "        print(mines[i][k], end=' ')\n",
    "        \n",
    "    print()\n"
   ]
  },
  {
   "cell_type": "code",
   "execution_count": null,
   "metadata": {},
   "outputs": [],
   "source": []
  },
  {
   "cell_type": "code",
   "execution_count": 152,
   "metadata": {},
   "outputs": [
    {
     "name": "stdout",
     "output_type": "stream",
     "text": [
      "217\n"
     ]
    }
   ],
   "source": [
    "num1, num2 = map(int, input().split())\n",
    "\n",
    "a = {i for i in range(1, num1+1) if num1%i == 0}\n",
    "b = {i for i in range(1, num2+1) if num2%i == 0}\n",
    "\n",
    "divisor = a & b\n",
    "\n",
    "result = 0\n",
    "if type(divisor) == set:\n",
    "    result = sum(divisor)\n",
    "    \n",
    "print(result)"
   ]
  },
  {
   "cell_type": "code",
   "execution_count": null,
   "metadata": {},
   "outputs": [],
   "source": []
  }
 ],
 "metadata": {
  "kernelspec": {
   "display_name": "base",
   "language": "python",
   "name": "python3"
  },
  "language_info": {
   "codemirror_mode": {
    "name": "ipython",
    "version": 3
   },
   "file_extension": ".py",
   "mimetype": "text/x-python",
   "name": "python",
   "nbconvert_exporter": "python",
   "pygments_lexer": "ipython3",
   "version": "3.10.9"
  },
  "orig_nbformat": 4
 },
 "nbformat": 4,
 "nbformat_minor": 2
}
