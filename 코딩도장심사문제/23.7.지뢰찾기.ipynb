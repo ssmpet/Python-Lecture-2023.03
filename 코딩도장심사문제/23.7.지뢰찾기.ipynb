{
 "cells": [
  {
   "attachments": {},
   "cell_type": "markdown",
   "metadata": {},
   "source": [
    "### 코딩 도장 23.7 심사문제 : 지뢰찾기"
   ]
  },
  {
   "cell_type": "code",
   "execution_count": 13,
   "metadata": {},
   "outputs": [
    {
     "name": "stdout",
     "output_type": "stream",
     "text": [
      "[['*', '*', '*'], ['.', '.', '.'], ['.', '.', '.']]\n"
     ]
    }
   ],
   "source": [
    "from pprint import pprint\n",
    "\n",
    "cols, rows = map(int, input().split())\n",
    "matrix = []\n",
    "for i in range(rows):\n",
    "    matrix.append(list(input()))\n",
    "\n",
    "print(matrix)"
   ]
  },
  {
   "cell_type": "code",
   "execution_count": 45,
   "metadata": {},
   "outputs": [],
   "source": [
    "# 리스트 출력해 주는 함수\n",
    "def show_matrix(m_list):\n",
    "    for i in m_list:\n",
    "        for k in i:\n",
    "            print(k, end=' ')\n",
    "        print()"
   ]
  },
  {
   "cell_type": "code",
   "execution_count": 15,
   "metadata": {},
   "outputs": [],
   "source": [
    "# 리스트 확장시켜주는 함수\n",
    "def extend_matrix(m_list):\n",
    "    \n",
    "    row = len(m_list)\n",
    "    col = len(m_list[0])\n",
    "    extend_matrix = [['.' for _ in range(col + 2)] for _ in range(row + 2)]\n",
    "\n",
    "    for index, element in enumerate(m_list):\n",
    "        extend_matrix[index + 1][1 : col + 1] =  element\n",
    "    \n",
    "    return extend_matrix"
   ]
  },
  {
   "cell_type": "code",
   "execution_count": null,
   "metadata": {},
   "outputs": [],
   "source": [
    "# 리스트 확장시켜주는 함수2\n",
    "def extend_matrix2(m_list):\n",
    "\n",
    "    row = len(m_list)\n",
    "    col = len(m_list[0])\n",
    "\n",
    "    pad_mines = [['.'] * (col + 2)]\n",
    "\n",
    "    for item in m_list:\n",
    "        line = ['.']\n",
    "        line.extend(item)\n",
    "        line.append('.')\n",
    "        pad_mines.append(line)\n",
    "    pad_mines.append(['.'] * (col + 2))\n",
    "\n",
    "    return pad_mines\n",
    "\n"
   ]
  },
  {
   "cell_type": "code",
   "execution_count": 17,
   "metadata": {},
   "outputs": [
    {
     "name": "stdout",
     "output_type": "stream",
     "text": [
      ". . . . . \n",
      ". * * * . \n",
      ". . . . . \n",
      ". . . . . \n",
      ". . . . . \n",
      "--------------------\n",
      ". . . . . \n",
      ". * * * . \n",
      ". 2 3 2 . \n",
      ". 0 0 0 . \n",
      ". . . . . \n",
      "-------result-------\n",
      "* * * \n",
      "2 3 2 \n",
      "0 0 0 \n"
     ]
    }
   ],
   "source": [
    "\n",
    "ex_matrix = extend_matrix(matrix)\n",
    "\n",
    "# ex_matrix = [['.' for _ in range(cols+2)] for _ in range(rows+2)]\n",
    "\n",
    "# for index, element in enumerate(matrix):\n",
    "#     ex_matrix[index + 1][1 : cols + 1] =  element\n",
    "\n",
    "show_matrix(ex_matrix)\n",
    "\n",
    "for row in range(1, rows + 1):\n",
    "    for col in range(1, cols + 1):\n",
    "        if ex_matrix[row][col] == '*':\n",
    "            continue\n",
    "\n",
    "        count = 0\n",
    "        for x in range(-1, 2):\n",
    "            for y in range(-1, 2):\n",
    "                if ex_matrix[row + x][col + y] == '*' and (x != 0 or y != 0) :\n",
    "                    count += 1\n",
    "        ex_matrix[row][col] = count\n",
    "        \n",
    "\n",
    "print('--------------------')\n",
    "show_matrix(ex_matrix)\n",
    "print('-------result-------')\n",
    "\n",
    "matrix = [ [ex_matrix[row][col] for col in range(1, cols+1)] for row in range(1, rows+1)]\n",
    "\n",
    "show_matrix(matrix)"
   ]
  },
  {
   "cell_type": "code",
   "execution_count": 18,
   "metadata": {},
   "outputs": [
    {
     "name": "stdout",
     "output_type": "stream",
     "text": [
      "***\n",
      "232\n",
      "000\n"
     ]
    }
   ],
   "source": [
    "cols, rows = map(int, input().split())\n",
    "\n",
    "matrix = []\n",
    "for i in range(rows):\n",
    "    matrix.append(list(input()))\n",
    "    \n",
    "ex_matrix = [['.' for _ in range(cols+2)] for _ in range(rows+2)]\n",
    "\n",
    "for index, element in enumerate(matrix):\n",
    "    ex_matrix[index + 1][1 : cols + 1] =  element\n",
    "    \n",
    "for row in range(1, rows+1):\n",
    "    for col in range(1, cols+1):\n",
    "        if ex_matrix[row][col] == '*':\n",
    "            continue\n",
    "\n",
    "        count = 0\n",
    "        for x in range(-1, 2):\n",
    "            for y in range(-1, 2):\n",
    "                if ex_matrix[row + x][col + y] == '*' and (x != 0 or y != 0) :\n",
    "                    count += 1\n",
    "        ex_matrix[row][col] = count\n",
    "            \n",
    "matrix = [ [ex_matrix[row][col] for col in range(1, cols+1)] for row in range(1, rows+1)]\n",
    "\n",
    "for row in range(rows):\n",
    "    for col in range(cols):\n",
    "        print(matrix[row][col], end='')\n",
    "    print()\n",
    "    "
   ]
  },
  {
   "cell_type": "code",
   "execution_count": 19,
   "metadata": {},
   "outputs": [
    {
     "name": "stdout",
     "output_type": "stream",
     "text": [
      "* * * . . . * . \n",
      ". . . . * . . . \n",
      ". * * . . . . . \n",
      ". . . . * * * . \n",
      ". . * . . * . * \n",
      "* . . . * . . * \n",
      ". . . * . . * . \n",
      ". . . . . . . * \n"
     ]
    }
   ],
   "source": [
    "# random() > 0.7  -->(*), 아니면 .\n",
    "# 8 X 8 크기\n",
    "# mines = [ ['.' for _ in range(8)] for _ in range(8) if random() > 0.7 ]\n",
    "from pprint import pprint\n",
    "import random\n",
    "\n",
    "mines = []\n",
    "\n",
    "for _ in range(8):\n",
    "    in_mine = []\n",
    "    for _ in range(8):\n",
    "        val = random.random()\n",
    "        if val > 0.7 : \n",
    "            in_mine.append('*')\n",
    "        else: \n",
    "            in_mine.append('.')\n",
    "    mines.append(in_mine)\n",
    "\n",
    "for i in range(8):\n",
    "    for k in range(8):\n",
    "        print(mines[i][k], end=' ')\n",
    "    print()\n",
    "\n"
   ]
  },
  {
   "cell_type": "code",
   "execution_count": 20,
   "metadata": {},
   "outputs": [],
   "source": [
    "# 자기 자신은 제외하고 주변 8개을 영역을 체크한다.\n",
    "def exe_mines(mines):\n",
    "\n",
    "    rows = len(mines) - 1\n",
    "    for row in range(1, rows):\n",
    "        \n",
    "        cols = len(mines[row]) - 1\n",
    "        for col in range(1, cols):\n",
    "            \n",
    "            if mines[row][col] == '*':\n",
    "                continue\n",
    "\n",
    "            count = 0\n",
    "            for x in range(-1, 2):\n",
    "                for y in range(-1, 2):\n",
    "                    if mines[row + x][col + y] == '*' and (x != 0 or y != 0) :\n",
    "                        count += 1\n",
    "            mines[row][col] = count\n",
    "        \n",
    "    return mines"
   ]
  },
  {
   "cell_type": "code",
   "execution_count": 30,
   "metadata": {},
   "outputs": [],
   "source": [
    "# 주변 체크하는 값들을 집합으로 해서 반복시킨다\n",
    "\n",
    "def exe_mines2(mines):\n",
    "    check_set = ((-1, -1), (-1, 0), (-1, 1), (0, -1), (0, 1), (1, -1), (1, 0), (1, 1))\n",
    "\n",
    "    rows = len(mines) - 1\n",
    "    for row in range(1, rows):\n",
    "        \n",
    "        cols = len(mines[row]) - 1\n",
    "        for col in range(1, cols):\n",
    "            \n",
    "            if mines[row][col] == '*':\n",
    "                continue\n",
    "\n",
    "            count = 0\n",
    "            for x, y in check_set:\n",
    "                if mines[row + x][col + y] == '*':\n",
    "                    count += 1\n",
    "            mines[row][col] = count\n",
    "\n",
    "    return mines"
   ]
  },
  {
   "cell_type": "code",
   "execution_count": 29,
   "metadata": {},
   "outputs": [
    {
     "name": "stdout",
     "output_type": "stream",
     "text": [
      "-1 -1\n",
      "-1 0\n",
      "-1 1\n",
      "0 -1\n",
      "0 1\n",
      "1 -1\n",
      "1 0\n",
      "1 1\n"
     ]
    }
   ],
   "source": [
    "check_set = ((-1, -1), (-1, 0), (-1, 1), (0, -1), (0, 1), (1, -1), (1, 0), (1, 1))\n",
    "for x, y in check_set:\n",
    "    print(x, y)"
   ]
  },
  {
   "cell_type": "code",
   "execution_count": 44,
   "metadata": {},
   "outputs": [],
   "source": [
    "# 확장시키지 않은 리스트에서 체크한다.\n",
    "def exe_mines3(mines):\n",
    "    check_set = ((-1, -1), (-1, 0), (-1, 1), (0, -1), (0, 1), (1, -1), (1, 0), (1, 1))\n",
    "\n",
    "    rows = len(mines)\n",
    "    for row in range(rows):\n",
    "        \n",
    "        cols = len(mines[row])\n",
    "        for col in range(cols):\n",
    "            if mines[row][col] == '*':\n",
    "                continue\n",
    "\n",
    "            count = 0\n",
    "            \n",
    "            for x, y in check_set:\n",
    "                new_row, new_col = row + x, col + y\n",
    "                if new_row >= 0 and new_col >= 0 and new_row < rows and new_col < cols:\n",
    "                    if mines[row + x][col + y] == '*':\n",
    "                        count += 1\n",
    "            mines[row][col] = count\n",
    "\n",
    "    return mines"
   ]
  },
  {
   "cell_type": "code",
   "execution_count": 46,
   "metadata": {},
   "outputs": [
    {
     "name": "stdout",
     "output_type": "stream",
     "text": [
      ". * . . \n",
      ". . . * \n",
      "* * * . \n",
      ". . * * \n",
      "------------------------\n",
      "1 * 2 1 \n",
      "3 4 4 * \n",
      "* * * 4 \n",
      "2 4 * * \n"
     ]
    }
   ],
   "source": [
    "cols, rows = 4, 4\n",
    "\n",
    "mines2 = [ ['*' if random.random() > 0.7 else '.' for _ in range(cols) ] for _ in range(rows)]\n",
    "\n",
    "show_matrix(mines2)\n",
    "\n",
    "# ex_mines = extend_matrix(mines)\n",
    "\n",
    "mines2 = exe_mines3(mines2)\n",
    "\n",
    "print('------------------------')\n",
    "\n",
    "# mines = [ [mines[row][col] for col in range(1, cols+1)] for row in range(1, rows+1)]\n",
    "\n",
    "\n",
    "show_matrix(mines2)\n"
   ]
  },
  {
   "cell_type": "code",
   "execution_count": null,
   "metadata": {},
   "outputs": [],
   "source": []
  }
 ],
 "metadata": {
  "kernelspec": {
   "display_name": "base",
   "language": "python",
   "name": "python3"
  },
  "language_info": {
   "codemirror_mode": {
    "name": "ipython",
    "version": 3
   },
   "file_extension": ".py",
   "mimetype": "text/x-python",
   "name": "python",
   "nbconvert_exporter": "python",
   "pygments_lexer": "ipython3",
   "version": "3.10.10"
  },
  "orig_nbformat": 4
 },
 "nbformat": 4,
 "nbformat_minor": 2
}
