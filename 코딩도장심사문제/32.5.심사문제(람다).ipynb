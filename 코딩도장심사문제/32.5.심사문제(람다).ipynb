{
 "cells": [
  {
   "attachments": {},
   "cell_type": "markdown",
   "metadata": {},
   "source": [
    "- 표준 입력으로 숫자.확장자 형식으로 된 파일 이름 여러 개가 입력됩니다. 다음 소스 코드를 완성하여 파일 이름이 숫자 3개이면서 앞에 0이 들어가는 형식으로 출력되게 만드세요. 예를 들어 1.png는 001.png, 99.docx는 099.docx, 100.xlsx는 100.xlsx처럼 출력되어야 합니다. 그리고 람다 표현식을 사용해야 하며 출력 결과는 리스트 형태라야 합니다. 람다 표현식에서 파일명을 처리할 때는 문자열 포매팅과 문자열 메서드를 활용하세요."
   ]
  },
  {
   "cell_type": "code",
   "execution_count": 3,
   "metadata": {},
   "outputs": [
    {
     "name": "stdout",
     "output_type": "stream",
     "text": [
      "['097.xlsx', '098.docx', '099.docx', '100.xlsx', '101.docx', '102.docx']\n"
     ]
    }
   ],
   "source": [
    "# 입력\n",
    "# 1.jpg 10.png 11.png 2.jpg 3.png\n",
    "# 97.xlsx 98.docx 99.docx 100.xlsx 101.docx 102.docx\n",
    "# 결과 \n",
    "# ['001.jpg', '010.png', '011.png', '002.jpg', '003.png']\n",
    "# ['097.xlsx', '098.docx', '099.docx', '100.xlsx', '101.docx', '102.docx']\n",
    "\n",
    "files = input().split()\n",
    "\n",
    "# files2 = []\n",
    "# for fname in files:\n",
    "#     flist = fname.split('.')\n",
    "#     files2.append('.'.join([f'{flist[0]:0>3}', flist[1]]))\n",
    "\n",
    "print(list(map(lambda x: '.'.join([f\"{x.split('.')[0]:0>3}\", x.split('.')[1]]), files)))"
   ]
  },
  {
   "cell_type": "code",
   "execution_count": 3,
   "metadata": {},
   "outputs": [
    {
     "name": "stdout",
     "output_type": "stream",
     "text": [
      "['001.jpg', '010.png', '011.png', '002.jpg', '003.png']\n"
     ]
    }
   ],
   "source": [
    "# 리스트 컴프리핸션으로 표현\n",
    "files_list = '1.jpg 10.png 11.png 2.jpg 3.png'.split()\n",
    "\n",
    "\n",
    "# files2 = []\n",
    "# for fname in files:\n",
    "#     flist = fname.split('.')\n",
    "#     files2.append('.'.join([f'{flist[0]:0>3}', flist[1]]))\n",
    "\n",
    "print(['.'.join([f\"{x.split('.')[0]:0>3}\", x.split('.')[1]]) for x in files_list])"
   ]
  }
 ],
 "metadata": {
  "kernelspec": {
   "display_name": "base",
   "language": "python",
   "name": "python3"
  },
  "language_info": {
   "codemirror_mode": {
    "name": "ipython",
    "version": 3
   },
   "file_extension": ".py",
   "mimetype": "text/x-python",
   "name": "python",
   "nbconvert_exporter": "python",
   "pygments_lexer": "ipython3",
   "version": "3.10.9"
  },
  "orig_nbformat": 4
 },
 "nbformat": 4,
 "nbformat_minor": 2
}
