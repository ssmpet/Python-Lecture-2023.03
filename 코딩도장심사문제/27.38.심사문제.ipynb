{
 "cells": [
  {
   "attachments": {},
   "cell_type": "markdown",
   "metadata": {},
   "source": [
    "- 27.6 심사문제"
   ]
  },
  {
   "cell_type": "code",
   "execution_count": 23,
   "metadata": {},
   "outputs": [
    {
     "name": "stdout",
     "output_type": "stream",
     "text": [
      "dictator\n",
      "subjects\n",
      "change\n",
      "costume\n",
      "elegance\n",
      "accepted\n"
     ]
    }
   ],
   "source": [
    "\n",
    "with open('data/words.txt') as file:\n",
    "    words = file.read().strip().replace(',', '').replace('.', '').split()\n",
    "    \n",
    "for word in words:\n",
    "    if word.find('c') >= 0 :\n",
    "        print(word)"
   ]
  },
  {
   "cell_type": "code",
   "execution_count": 24,
   "metadata": {},
   "outputs": [
    {
     "name": "stdout",
     "output_type": "stream",
     "text": [
      "dictator\n",
      "subjects\n",
      "change\n",
      "costume\n",
      "elegance\n",
      "accepted\n"
     ]
    }
   ],
   "source": [
    "\n",
    "with open('data/words.txt') as file:\n",
    "    words = file.read().strip().replace(',', '').replace('.', '').split()\n",
    "    \n",
    "for word in words:\n",
    "    if 'c' in word :\n",
    "        print(word)"
   ]
  },
  {
   "cell_type": "code",
   "execution_count": 25,
   "metadata": {},
   "outputs": [
    {
     "name": "stdout",
     "output_type": "stream",
     "text": [
      "dictator\n",
      "subjects\n",
      "change\n",
      "costume\n",
      "elegance\n",
      "accepted\n"
     ]
    }
   ],
   "source": [
    "# print(*[a, b, c], sep='\\n') 은 \n",
    "# print(a, b, c, sep='\\n') 의 뜻과 같음\n",
    "print(*[ word for word in words if 'c' in word], sep='\\n')"
   ]
  },
  {
   "cell_type": "code",
   "execution_count": 3,
   "metadata": {},
   "outputs": [
    {
     "name": "stdout",
     "output_type": "stream",
     "text": [
      "dictator\n",
      "subjects\n",
      "change\n",
      "costume\n",
      "elegance\n",
      "accepted\n"
     ]
    }
   ],
   "source": [
    "with open('data/words.txt') as file:\n",
    "    words = file.read().split()\n",
    "\n",
    "for word in words:\n",
    "    word = word.strip('.,\\n').lower()\n",
    "    if 'c' in word:\n",
    "        print(word)"
   ]
  },
  {
   "attachments": {},
   "cell_type": "markdown",
   "metadata": {},
   "source": [
    "- 38.7 심사문제"
   ]
  },
  {
   "cell_type": "code",
   "execution_count": 10,
   "metadata": {},
   "outputs": [
    {
     "name": "stdout",
     "output_type": "stream",
     "text": [
      "level\n"
     ]
    }
   ],
   "source": [
    "class NotPalindromeError(Exception):\n",
    "    def __init__(self):\n",
    "        super().__init__('회문이 아닙니다.')\n",
    "\n",
    "def palindrome(word):\n",
    "\n",
    "    # if word == word[::-1]:\n",
    "    #     print(word)\n",
    "    #     return\n",
    "    # raise NotPalindromeError\n",
    "\n",
    "    if word != word[::-1]:\n",
    "        raise NotPalindromeError    \n",
    "    else:\n",
    "        print(word)\n",
    "\n",
    "try:\n",
    "    word = input()\n",
    "    palindrome(word)\n",
    "except NotPalindromeError as e:\n",
    "    print(e)"
   ]
  },
  {
   "cell_type": "code",
   "execution_count": null,
   "metadata": {},
   "outputs": [],
   "source": []
  },
  {
   "attachments": {},
   "cell_type": "markdown",
   "metadata": {},
   "source": [
    "- 39.6 심사문제"
   ]
  },
  {
   "cell_type": "code",
   "execution_count": 5,
   "metadata": {},
   "outputs": [
    {
     "name": "stdout",
     "output_type": "stream",
     "text": [
      "00:30:34\n",
      "00:30:35\n",
      "00:30:36\n",
      "\n",
      "00:30:35\n"
     ]
    }
   ],
   "source": [
    "class TimeIterator:\n",
    "    def __init__(self, start, stop):\n",
    "        self.start = start\n",
    "        self.stop = stop\n",
    "    \n",
    "    def __getitem__(self, index):\n",
    "        if index < self.stop - self.start:\n",
    "            second = self.start + index\n",
    "            second %= 60\n",
    "            minute = (self.start + index) // 60\n",
    "            minute %= 60\n",
    "            hour = (self.start + index) // 60 // 60\n",
    "            hour %= 24\n",
    "            return f'{hour:02d}:{minute:02d}:{second:02d}'\n",
    "        else:\n",
    "            raise IndexError\n",
    "\n",
    "\n",
    "start, stop, index = map(int, input().split())\n",
    " \n",
    "for i in TimeIterator(start, stop):\n",
    "    print(i)\n",
    " \n",
    "print('\\n', TimeIterator(start, stop)[index], sep='')"
   ]
  },
  {
   "cell_type": "code",
   "execution_count": 7,
   "metadata": {},
   "outputs": [
    {
     "name": "stdout",
     "output_type": "stream",
     "text": [
      "<class 'generator'>\n",
      "953 967 971 977 983 991 997 "
     ]
    }
   ],
   "source": [
    "def prime_number_generator(start, stop):\n",
    "    for n in range(start, stop):\n",
    "        is_prime = True\n",
    "        for i in range(2, int((n**0.5) +1)):\n",
    "            if n % i == 0:\n",
    "                is_prime = False\n",
    "                break\n",
    "        if is_prime == True:\n",
    "            yield n\n",
    "\n",
    "\n",
    "start, stop = map(int, input().split())\n",
    " \n",
    "g = prime_number_generator(start, stop)\n",
    "print(type(g))\n",
    "for i in g:\n",
    "    print(i, end=' ')"
   ]
  }
 ],
 "metadata": {
  "kernelspec": {
   "display_name": "base",
   "language": "python",
   "name": "python3"
  },
  "language_info": {
   "codemirror_mode": {
    "name": "ipython",
    "version": 3
   },
   "file_extension": ".py",
   "mimetype": "text/x-python",
   "name": "python",
   "nbconvert_exporter": "python",
   "pygments_lexer": "ipython3",
   "version": "3.9.13"
  },
  "orig_nbformat": 4
 },
 "nbformat": 4,
 "nbformat_minor": 2
}
