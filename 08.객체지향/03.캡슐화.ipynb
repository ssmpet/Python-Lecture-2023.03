{
 "cells": [
  {
   "attachments": {},
   "cell_type": "markdown",
   "metadata": {},
   "source": [
    "### 8.3 캡슐화 (Encapsulation)"
   ]
  },
  {
   "cell_type": "code",
   "execution_count": null,
   "metadata": {},
   "outputs": [],
   "source": [
    "# 속성값에 __ 를 붙이면 비공개 속성이 되어서 \n",
    "# 혹시라도 있을 수 있는 오류를 방지할 수 있음.\n",
    "# 비공개 속성을 액세스하기 위해서 Getter/Setter를 만들어 줌"
   ]
  },
  {
   "cell_type": "code",
   "execution_count": 1,
   "metadata": {},
   "outputs": [],
   "source": [
    "class Tmoney:\n",
    "    def __init__(self, age, balance):\n",
    "        self.age = age\n",
    "        self.__balance = balance\n",
    "\n",
    "    def pay(self):\n",
    "        fare = 0\n",
    "        if 7 <= self.age <= 12: fare = 650\n",
    "        elif 13 <= self.age <= 18: fare = 1050\n",
    "        elif self.age >= 19: fare = 1250\n",
    "\n",
    "        if self.age < 7:\n",
    "            return print(f'{self.age}세의 요금은 없습니다.')\n",
    "        \n",
    "        if self.__balance < fare:\n",
    "            return print(f'{self.age}세의 요금은 {fare:,d}원이고, 잔액은 {self.__balance}원으로 잔액이 부족합니다. ㅠㅠ')\n",
    "        \n",
    "        self.__balance -= fare \n",
    "        return print(f'{self.age}세의 요금은 {fare:,d}원이고, 잔액은 {self.__balance:,d}원 입니다.')\n",
    "    \n",
    "    def charge(self, amount):\n",
    "        self.__balance += amount\n",
    "        print(f'{amount:,d}원을 충정하였고, 잔액은 {self.__balance:,d}원 입니다.')\n",
    "        "
   ]
  },
  {
   "cell_type": "code",
   "execution_count": 3,
   "metadata": {},
   "outputs": [
    {
     "data": {
      "text/plain": [
       "15"
      ]
     },
     "execution_count": 3,
     "metadata": {},
     "output_type": "execute_result"
    }
   ],
   "source": [
    "tmoney = Tmoney(15, 10000)\n",
    "tmoney.age"
   ]
  },
  {
   "cell_type": "code",
   "execution_count": 4,
   "metadata": {},
   "outputs": [
    {
     "ename": "AttributeError",
     "evalue": "'Tmoney' object has no attribute 'balance'",
     "output_type": "error",
     "traceback": [
      "\u001b[1;31m---------------------------------------------------------------------------\u001b[0m",
      "\u001b[1;31mAttributeError\u001b[0m                            Traceback (most recent call last)",
      "Cell \u001b[1;32mIn[4], line 1\u001b[0m\n\u001b[1;32m----> 1\u001b[0m tmoney\u001b[39m.\u001b[39;49mbalance\n",
      "\u001b[1;31mAttributeError\u001b[0m: 'Tmoney' object has no attribute 'balance'"
     ]
    }
   ],
   "source": [
    "tmoney.balance"
   ]
  },
  {
   "cell_type": "code",
   "execution_count": 6,
   "metadata": {},
   "outputs": [
    {
     "ename": "AttributeError",
     "evalue": "'Tmoney' object has no attribute '__balance'",
     "output_type": "error",
     "traceback": [
      "\u001b[1;31m---------------------------------------------------------------------------\u001b[0m",
      "\u001b[1;31mAttributeError\u001b[0m                            Traceback (most recent call last)",
      "Cell \u001b[1;32mIn[6], line 1\u001b[0m\n\u001b[1;32m----> 1\u001b[0m tmoney\u001b[39m.\u001b[39;49m__balance\n",
      "\u001b[1;31mAttributeError\u001b[0m: 'Tmoney' object has no attribute '__balance'"
     ]
    }
   ],
   "source": [
    "tmoney.__balance"
   ]
  },
  {
   "cell_type": "code",
   "execution_count": 7,
   "metadata": {},
   "outputs": [
    {
     "name": "stdout",
     "output_type": "stream",
     "text": [
      "15세의 요금은 1,050원이고, 잔액은 8,950원 입니다.\n",
      "15세의 요금은 1,050원이고, 잔액은 7,900원 입니다.\n",
      "15세의 요금은 1,050원이고, 잔액은 6,850원 입니다.\n",
      "15세의 요금은 1,050원이고, 잔액은 5,800원 입니다.\n",
      "15세의 요금은 1,050원이고, 잔액은 4,750원 입니다.\n",
      "15세의 요금은 1,050원이고, 잔액은 3,700원 입니다.\n",
      "15세의 요금은 1,050원이고, 잔액은 2,650원 입니다.\n",
      "15세의 요금은 1,050원이고, 잔액은 1,600원 입니다.\n",
      "15세의 요금은 1,050원이고, 잔액은 550원 입니다.\n",
      "15세의 요금은 1,050원이고, 잔액은 550원으로 잔액이 부족합니다. ㅠㅠ\n"
     ]
    }
   ],
   "source": [
    "for _ in range(10):\n",
    "    tmoney.pay()"
   ]
  },
  {
   "cell_type": "code",
   "execution_count": 9,
   "metadata": {},
   "outputs": [
    {
     "name": "stdout",
     "output_type": "stream",
     "text": [
      "10,000원을 충정하였고, 잔액은 20,550원 입니다.\n"
     ]
    }
   ],
   "source": [
    "tmoney.charge(10000)"
   ]
  },
  {
   "attachments": {},
   "cell_type": "markdown",
   "metadata": {},
   "source": [
    "- 연습문제\n",
    "    - 이름, 나이, 주소, 지갑(wallet)을 속성으로 갖는 Person 클래스\n",
    "    - 지갑은 비공개 속성으로 할 것\n",
    "    - __str__ 메소드를 만들어서 이름, 나이, 주소, 지갑을 출력할 수 있게 할 것"
   ]
  },
  {
   "cell_type": "code",
   "execution_count": 18,
   "metadata": {},
   "outputs": [],
   "source": [
    "class Person:\n",
    "    def __init__(self, name, age, addr, wallet):\n",
    "        self.name = name\n",
    "        self.age = age\n",
    "        self.addr = addr\n",
    "        self.__wallet = wallet\n",
    "\n",
    "    def __str__(self):\n",
    "        return f'제 이름은 {self.name}이고, 나이는 {self.age} 살 입니다.\\n' +  \\\n",
    "               f'주소는 {self.addr} 입니다.\\n' \\\n",
    "               f'저는 지금 {self.__wallet:,d}원 가지고 있습니다.^^'\n",
    "\n",
    "    def get_wallet(self):           # Getter\n",
    "        return self.__wallet\n",
    "\n",
    "    def set_wallet(self, wallet):   # Setter\n",
    "        self.__wallet = wallet\n",
    "\n",
    "    "
   ]
  },
  {
   "cell_type": "code",
   "execution_count": 19,
   "metadata": {},
   "outputs": [
    {
     "name": "stdout",
     "output_type": "stream",
     "text": [
      "제 이름은 Maria이고, 나이는 19 살 입니다.\n",
      "주소는 경기도 수원지 장안구 입니다.\n",
      "저는 지금 10,000원 가지고 있습니다.^^\n"
     ]
    }
   ],
   "source": [
    "maria = Person('Maria', 19, '경기도 수원지 장안구', 10000)\n",
    "print(maria)"
   ]
  },
  {
   "cell_type": "code",
   "execution_count": 20,
   "metadata": {},
   "outputs": [
    {
     "name": "stdout",
     "output_type": "stream",
     "text": [
      "10000\n"
     ]
    }
   ],
   "source": [
    "print(maria.get_wallet())"
   ]
  },
  {
   "cell_type": "code",
   "execution_count": 22,
   "metadata": {},
   "outputs": [
    {
     "name": "stdout",
     "output_type": "stream",
     "text": [
      "30000\n"
     ]
    }
   ],
   "source": [
    "maria.set_wallet(30000)\n",
    "print(maria.get_wallet())"
   ]
  },
  {
   "attachments": {},
   "cell_type": "markdown",
   "metadata": {},
   "source": [
    "- 비공개 메소드"
   ]
  },
  {
   "cell_type": "code",
   "execution_count": 28,
   "metadata": {},
   "outputs": [],
   "source": [
    "class Worker:\n",
    "    def __greeting(self):\n",
    "        print('__greeting(): 안녕하세요')\n",
    "\n",
    "    def hello(self):\n",
    "        self.__greeting()\n",
    "\n"
   ]
  },
  {
   "cell_type": "code",
   "execution_count": 29,
   "metadata": {},
   "outputs": [
    {
     "ename": "AttributeError",
     "evalue": "'Worker' object has no attribute '__greeting'",
     "output_type": "error",
     "traceback": [
      "\u001b[1;31m---------------------------------------------------------------------------\u001b[0m",
      "\u001b[1;31mAttributeError\u001b[0m                            Traceback (most recent call last)",
      "Cell \u001b[1;32mIn[29], line 2\u001b[0m\n\u001b[0;32m      1\u001b[0m worker \u001b[39m=\u001b[39m Worker()\n\u001b[1;32m----> 2\u001b[0m worker\u001b[39m.\u001b[39;49m__greeting()\n",
      "\u001b[1;31mAttributeError\u001b[0m: 'Worker' object has no attribute '__greeting'"
     ]
    }
   ],
   "source": [
    "worker = Worker()\n",
    "worker.__greeting()"
   ]
  },
  {
   "cell_type": "code",
   "execution_count": 30,
   "metadata": {},
   "outputs": [
    {
     "name": "stdout",
     "output_type": "stream",
     "text": [
      "__greeting(): 안녕하세요\n"
     ]
    }
   ],
   "source": [
    "worker.hello()"
   ]
  }
 ],
 "metadata": {
  "kernelspec": {
   "display_name": "base",
   "language": "python",
   "name": "python3"
  },
  "language_info": {
   "codemirror_mode": {
    "name": "ipython",
    "version": 3
   },
   "file_extension": ".py",
   "mimetype": "text/x-python",
   "name": "python",
   "nbconvert_exporter": "python",
   "pygments_lexer": "ipython3",
   "version": "3.10.10"
  },
  "orig_nbformat": 4
 },
 "nbformat": 4,
 "nbformat_minor": 2
}
