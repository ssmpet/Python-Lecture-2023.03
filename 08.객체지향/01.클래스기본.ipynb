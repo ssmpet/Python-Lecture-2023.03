{
 "cells": [
  {
   "attachments": {},
   "cell_type": "markdown",
   "metadata": {},
   "source": [
    "### 8-1. 클래스의 기본"
   ]
  },
  {
   "attachments": {},
   "cell_type": "markdown",
   "metadata": {},
   "source": [
    "- Person 자료 만들기  "
   ]
  },
  {
   "cell_type": "code",
   "execution_count": 2,
   "metadata": {},
   "outputs": [],
   "source": [
    "# 리스트\n",
    "person_list = ['James', 175.0, 70.0, 2000]"
   ]
  },
  {
   "cell_type": "code",
   "execution_count": 3,
   "metadata": {},
   "outputs": [],
   "source": [
    "# 딕셔너리\n",
    "person_dic = {\n",
    "    'name':'James', 'height': 175.0, 'weight': 70.0, 'birth_year':2000\n",
    "}"
   ]
  },
  {
   "cell_type": "code",
   "execution_count": 7,
   "metadata": {},
   "outputs": [],
   "source": [
    "# 범용적으로 만들어 객체를 생성할 때 구체적인 값을 할당\n",
    "class Person:\n",
    "    def __init__(self, name, height, weight, birth_year):\n",
    "        self.name = name\n",
    "        self.height = height\n",
    "        self.weight = weight\n",
    "        self.birth_year = birth_year"
   ]
  },
  {
   "cell_type": "code",
   "execution_count": 5,
   "metadata": {},
   "outputs": [
    {
     "name": "stdout",
     "output_type": "stream",
     "text": [
      "['James', 175.0, 70.0, 2000]\n",
      "{'name': 'James', 'height': 175.0, 'weight': 70.0, 'birth_year': 2000}\n"
     ]
    }
   ],
   "source": [
    "print(person_list)\n",
    "print(person_dic)"
   ]
  },
  {
   "cell_type": "code",
   "execution_count": 8,
   "metadata": {},
   "outputs": [],
   "source": [
    "james = Person('James', 175.0, 70.0, 2000)\n",
    "maria = Person('Maria', 163.0, 50.0, 2001)"
   ]
  },
  {
   "attachments": {},
   "cell_type": "markdown",
   "metadata": {},
   "source": [
    "- 메소드(Method)\n",
    "    - 클래스가 가지는 함수\n",
    "    - 객체가 할 수 있는 행위를 모델링"
   ]
  },
  {
   "cell_type": "code",
   "execution_count": 50,
   "metadata": {},
   "outputs": [],
   "source": [
    "import datetime as dt \n",
    "\n",
    "class Person:\n",
    "    def __init__(self, name, height, weight, birth_year):\n",
    "        self.name = name\n",
    "        self.height = height\n",
    "        self.weight = weight\n",
    "        self.birth_year = birth_year\n",
    "\n",
    "    def get_bmi(self):\n",
    "        bmi = self.weight/(self.height / 100) ** 2\n",
    "        return round(bmi, 2)\n",
    "    \n",
    "    def get_age(self):\n",
    "        now = dt.date.today()\n",
    "        return now.year - self.birth_year\n",
    "    \n",
    "    def get_info(self):\n",
    "        return f'이름: {self.name}, 키: {self.height}cm, 몸무게: {self.weight}kg, ' + \\\n",
    "               f'BMI: {self.get_bmi()}, 나이: {self.get_age()}'\n",
    "                    \n"
   ]
  },
  {
   "cell_type": "code",
   "execution_count": 51,
   "metadata": {},
   "outputs": [],
   "source": [
    "james = Person('James', 175.0, 70.0, 2000)\n",
    "maria = Person('Maria', 163.0, 50.0, 2001)"
   ]
  },
  {
   "cell_type": "code",
   "execution_count": 52,
   "metadata": {},
   "outputs": [
    {
     "name": "stdout",
     "output_type": "stream",
     "text": [
      "James의 BMI는 22.86 입니다.\n",
      "Maria의 BMI는 18.82 입니다.\n"
     ]
    }
   ],
   "source": [
    "print(f'{james.name}의 BMI는 {james.get_bmi()} 입니다.')\n",
    "print(f'{maria.name}의 BMI는 {maria.get_bmi()} 입니다.')\n"
   ]
  },
  {
   "cell_type": "code",
   "execution_count": 54,
   "metadata": {},
   "outputs": [
    {
     "name": "stdout",
     "output_type": "stream",
     "text": [
      "James의 나이는 23 입니다.\n",
      "Maria의 나이는 22 입니다.\n"
     ]
    }
   ],
   "source": [
    "print(f'{james.name}의 나이는 {james.get_age()} 입니다.')\n",
    "print(f'{maria.name}의 나이는 {maria.get_age()} 입니다.')"
   ]
  },
  {
   "cell_type": "code",
   "execution_count": 55,
   "metadata": {},
   "outputs": [
    {
     "name": "stdout",
     "output_type": "stream",
     "text": [
      "이름: James, 키: 175.0cm, 몸무게: 70.0kg, BMI: 22.86, 나이: 23\n",
      "이름: Maria, 키: 163.0cm, 몸무게: 50.0kg, BMI: 18.82, 나이: 22\n"
     ]
    }
   ],
   "source": [
    "print(james.get_info())\n",
    "print(maria.get_info())"
   ]
  },
  {
   "cell_type": "code",
   "execution_count": 56,
   "metadata": {},
   "outputs": [
    {
     "name": "stdout",
     "output_type": "stream",
     "text": [
      "이름: Maria, 키: 163.0cm, 몸무게: 48.0kg, BMI: 18.07, 나이: 22\n"
     ]
    }
   ],
   "source": [
    "# 객체의 속성, 변경가능\n",
    "maria.weight -= 2\n",
    "print(maria.get_info())"
   ]
  },
  {
   "attachments": {},
   "cell_type": "markdown",
   "metadata": {},
   "source": [
    "- 연습문제: class Tmoney\n",
    "    - 속성으로 나이(age)와 잔액(balance)을 가지고 있음\n",
    "    - pay()\n",
    "        - ㅇㅇ살의 요금은 ㅇㅇㅇ원이고, 잔액은 ㅇㅇㅇ원 입니다.\n",
    "        - 잔액이 부족합니다.ㅠㅠ"
   ]
  },
  {
   "cell_type": "code",
   "execution_count": 47,
   "metadata": {},
   "outputs": [],
   "source": [
    "class Tmoney:\n",
    "    def __init__(self, age, balance):\n",
    "        self.age = age\n",
    "        self.balance = balance\n",
    "\n",
    "    def pay(self):\n",
    "        fare = 0\n",
    "        if 7 <= self.age <= 12: fare = 650\n",
    "        elif 13 <= self.age <= 18: fare = 1050\n",
    "        elif self.age >= 19: fare = 1250\n",
    "\n",
    "        if self.age < 7:\n",
    "            return print(f'{self.age}세의 요금은 없습니다.')\n",
    "        \n",
    "        if self.balance < fare:\n",
    "            return print(f'{self.age}세의 요금은 {fare:,d}원이고, 잔액은 {self.balance}원으로 잔액이 부족합니다. ㅠㅠ')\n",
    "        \n",
    "        self.balance -= fare \n",
    "        return print(f'{self.age}세의 요금은 {fare:,d}원이고, 잔액은 {self.balance:,d}원 입니다.')\n",
    "    \n",
    "    def charge(self, amount):\n",
    "        self.balance += amount\n",
    "        print(f'{amount:,d}원을 충정하였고, 잔액은 {self.balance:,d}원 입니다.')\n",
    "        "
   ]
  },
  {
   "cell_type": "code",
   "execution_count": 48,
   "metadata": {},
   "outputs": [
    {
     "name": "stdout",
     "output_type": "stream",
     "text": [
      "15세의 요금은 1,050원이고, 잔액은 8,950원 입니다.\n",
      "15세의 요금은 1,050원이고, 잔액은 7,900원 입니다.\n",
      "15세의 요금은 1,050원이고, 잔액은 6,850원 입니다.\n",
      "15세의 요금은 1,050원이고, 잔액은 5,800원 입니다.\n",
      "15세의 요금은 1,050원이고, 잔액은 4,750원 입니다.\n",
      "15세의 요금은 1,050원이고, 잔액은 3,700원 입니다.\n",
      "15세의 요금은 1,050원이고, 잔액은 2,650원 입니다.\n",
      "15세의 요금은 1,050원이고, 잔액은 1,600원 입니다.\n",
      "15세의 요금은 1,050원이고, 잔액은 550원 입니다.\n",
      "15세의 요금은 1,050원이고, 잔액은 550원으로 잔액이 부족합니다. ㅠㅠ\n"
     ]
    }
   ],
   "source": [
    "card = Tmoney(15, 10000)\n",
    "for i in range(10):\n",
    "    card.pay()\n"
   ]
  },
  {
   "cell_type": "code",
   "execution_count": 49,
   "metadata": {},
   "outputs": [
    {
     "name": "stdout",
     "output_type": "stream",
     "text": [
      "10,000원을 충정하였고, 잔액은 10,550원 입니다.\n"
     ]
    }
   ],
   "source": [
    "card.charge(10000)"
   ]
  }
 ],
 "metadata": {
  "kernelspec": {
   "display_name": "base",
   "language": "python",
   "name": "python3"
  },
  "language_info": {
   "codemirror_mode": {
    "name": "ipython",
    "version": 3
   },
   "file_extension": ".py",
   "mimetype": "text/x-python",
   "name": "python",
   "nbconvert_exporter": "python",
   "pygments_lexer": "ipython3",
   "version": "3.10.10"
  },
  "orig_nbformat": 4
 },
 "nbformat": 4,
 "nbformat_minor": 2
}
