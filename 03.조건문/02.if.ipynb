{
 "cells": [
  {
   "cell_type": "markdown",
   "metadata": {},
   "source": [
    "### 3-1 if 조건문"
   ]
  },
  {
   "attachments": {},
   "cell_type": "markdown",
   "metadata": {},
   "source": [
    "- if 조건문"
   ]
  },
  {
   "cell_type": "code",
   "execution_count": 16,
   "metadata": {},
   "outputs": [],
   "source": [
    "num = int(input('정수 입력> '))"
   ]
  },
  {
   "cell_type": "code",
   "execution_count": 17,
   "metadata": {},
   "outputs": [],
   "source": [
    "if num > 0:\n",
    "    print(f'{num}은 양수입니다.')"
   ]
  },
  {
   "cell_type": "code",
   "execution_count": 18,
   "metadata": {},
   "outputs": [],
   "source": [
    "if num < 0:\n",
    "    print(f'{num}은 음수입니다.')"
   ]
  },
  {
   "cell_type": "code",
   "execution_count": 19,
   "metadata": {},
   "outputs": [
    {
     "name": "stdout",
     "output_type": "stream",
     "text": [
      "0 입니다.\n"
     ]
    }
   ],
   "source": [
    "if num == 0:\n",
    "    print(f'{num} 입니다.')"
   ]
  },
  {
   "attachments": {},
   "cell_type": "markdown",
   "metadata": {},
   "source": [
    "- 날짜/시간 관련"
   ]
  },
  {
   "cell_type": "code",
   "execution_count": 26,
   "metadata": {},
   "outputs": [
    {
     "name": "stdout",
     "output_type": "stream",
     "text": [
      "2023-03-30 10:31:08.221875\n"
     ]
    }
   ],
   "source": [
    "import datetime\n",
    "now = datetime.datetime.now()\n",
    "print(now)\n",
    "\n"
   ]
  },
  {
   "cell_type": "code",
   "execution_count": 25,
   "metadata": {},
   "outputs": [
    {
     "name": "stdout",
     "output_type": "stream",
     "text": [
      "2023-03-30 10:29:24\n"
     ]
    }
   ],
   "source": [
    "# 2023-03-30 10:27:51\n",
    "print(f'{now.year}-{now.month:02d}-{now.day:02d} {now.hour:02d}:{now.minute:02d}:{now.second:02d}')"
   ]
  },
  {
   "cell_type": "code",
   "execution_count": 27,
   "metadata": {},
   "outputs": [
    {
     "name": "stdout",
     "output_type": "stream",
     "text": [
      "현재시간은 10시로 오전입니다.\n"
     ]
    }
   ],
   "source": [
    "# 현재 시간이 오전/오후인지 구분\n",
    "now = datetime.datetime.now()\n",
    "if now.hour < 12 :\n",
    "    print(f'현재시간은 {now.hour}시로 오전입니다.')\n",
    "else:\n",
    "    print(f'현재시간은 {now.hour}시로 오후입니다.')"
   ]
  },
  {
   "cell_type": "code",
   "execution_count": 28,
   "metadata": {},
   "outputs": [
    {
     "name": "stdout",
     "output_type": "stream",
     "text": [
      "3 월은 봄입니다.\n"
     ]
    }
   ],
   "source": [
    "# 계절 구분\n",
    "# 12 - 2: 겨울, 3 - 5: 봄, 6 - 8: 여름, 9 - 11: 가을\n",
    "\n",
    "if 3 <= now.month <= 5: \n",
    "    print(f'{now.month} 월은 봄입니다.')\n",
    "if 6<= now.month <= 8:  \n",
    "    print(f'{now.month} 월은 여름입니다.')\n",
    "if 9<= now.month <= 11: \n",
    "    print(f'{now.month} 월은 가을입니다.')\n",
    "if now.month <=2 or now.month >= 12 : \n",
    "    print(f'{now.month} 월은 겨울입니다.')"
   ]
  },
  {
   "cell_type": "code",
   "execution_count": 2,
   "metadata": {},
   "outputs": [
    {
     "name": "stdout",
     "output_type": "stream",
     "text": [
      "3 은/는 홀수입니다.\n"
     ]
    }
   ],
   "source": [
    "# 홀수/짝수 구분\n",
    "import random\n",
    "num = random.randint(1, 10)\n",
    "\n",
    "if num % 2 == 1 : \n",
    "    print(f'{num} 은/는 홀수입니다.')\n",
    "if num % 2 == 0 : \n",
    "    print(f'{num} 은/는 짝수입니다.')"
   ]
  },
  {
   "cell_type": "code",
   "execution_count": null,
   "metadata": {},
   "outputs": [],
   "source": [
    "# 홀수/짝수 구분 2\n",
    "num = '115'\n",
    "\n",
    "last_char = num[-1]\n",
    "if last_char in '02468':\n",
    "    print('짝수입니다.')\n",
    "\n",
    "if last_char in '13579':\n",
    "    print('홀수입니다.')\n"
   ]
  },
  {
   "attachments": {},
   "cell_type": "markdown",
   "metadata": {},
   "source": [
    "- pass"
   ]
  },
  {
   "cell_type": "code",
   "execution_count": 43,
   "metadata": {},
   "outputs": [],
   "source": [
    "# 나중에 코드를 구현할 예정으로 에러 코드를 방지함\n",
    "if True:\n",
    "    pass\n"
   ]
  },
  {
   "attachments": {},
   "cell_type": "markdown",
   "metadata": {},
   "source": [
    "- 들여쓰기(Indentation)"
   ]
  },
  {
   "cell_type": "code",
   "execution_count": 5,
   "metadata": {},
   "outputs": [
    {
     "name": "stdout",
     "output_type": "stream",
     "text": [
      "2 은/는 짝수입니다.\n",
      "이 부분은 조건이 참일때에만 실행됩니다.\n",
      "들여쓰시가 끝나면 조건과 관계없이 실행됩니다.\n"
     ]
    }
   ],
   "source": [
    "num = 2\n",
    "if num % 2 == 0:\n",
    "    print(f'{num} 은/는 짝수입니다.')\n",
    "    print('이 부분은 조건이 참일때에만 실행됩니다.')\n",
    "print('들여쓰시가 끝나면 조건과 관계없이 실행됩니다.')"
   ]
  },
  {
   "attachments": {},
   "cell_type": "markdown",
   "metadata": {},
   "source": [
    "- 중첩(Nested) 조건문"
   ]
  },
  {
   "cell_type": "code",
   "execution_count": 6,
   "metadata": {},
   "outputs": [
    {
     "name": "stdout",
     "output_type": "stream",
     "text": [
      "홀수입니다.\n",
      "10보다 큰 수입니다.\n",
      "들여쓰기를 주의하세요.\n"
     ]
    }
   ],
   "source": [
    "num = 15\n",
    "if num % 2 == 1:\n",
    "    print('홀수입니다.')\n",
    "    if num > 10 :\n",
    "        print('10보다 큰 수입니다.')\n",
    "print('들여쓰기를 주의하세요.')"
   ]
  },
  {
   "cell_type": "code",
   "execution_count": null,
   "metadata": {},
   "outputs": [],
   "source": []
  }
 ],
 "metadata": {
  "kernelspec": {
   "display_name": "base",
   "language": "python",
   "name": "python3"
  },
  "language_info": {
   "codemirror_mode": {
    "name": "ipython",
    "version": 3
   },
   "file_extension": ".py",
   "mimetype": "text/x-python",
   "name": "python",
   "nbconvert_exporter": "python",
   "pygments_lexer": "ipython3",
   "version": "3.10.9"
  },
  "orig_nbformat": 4
 },
 "nbformat": 4,
 "nbformat_minor": 2
}
