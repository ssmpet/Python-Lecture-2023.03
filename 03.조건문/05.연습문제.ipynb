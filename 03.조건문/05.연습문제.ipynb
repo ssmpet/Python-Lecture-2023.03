{
 "cells": [
  {
   "attachments": {},
   "cell_type": "markdown",
   "metadata": {},
   "source": [
    "- Q1. 생일을 입력으로 받아 오늘 현재의 만 나이를 계산하고, 띠를 알려주세요."
   ]
  },
  {
   "cell_type": "code",
   "execution_count": 5,
   "metadata": {},
   "outputs": [
    {
     "name": "stdout",
     "output_type": "stream",
     "text": [
      "1977년 12월 21일\n"
     ]
    }
   ],
   "source": [
    "# 생년월일을 입력으로 받아서 정수로 변환하기\n",
    "\n",
    "b_year, b_month, b_day = map(int, input('생일을 입력하세요 ex)1977 3 2> ').split())\n",
    "print(f'{b_year}년 {b_month:02d}월 {b_day:02}일')"
   ]
  },
  {
   "cell_type": "code",
   "execution_count": 9,
   "metadata": {},
   "outputs": [
    {
     "name": "stdout",
     "output_type": "stream",
     "text": [
      "45\n"
     ]
    }
   ],
   "source": [
    "import datetime\n",
    "\n",
    "t = datetime.date.today()\n",
    "\n",
    "if t.month > b_month:\n",
    "    age = t.year - b_year\n",
    "elif t.month < b_month:\n",
    "    age = t.year - b_year - 1\n",
    "else:\n",
    "    if t.day < b_day:\n",
    "        age = t.year - b_year - 1\n",
    "    else:\n",
    "        age = t.year - b_year\n",
    "    \n",
    "print(age)"
   ]
  },
  {
   "cell_type": "code",
   "execution_count": 7,
   "metadata": {},
   "outputs": [
    {
     "name": "stdout",
     "output_type": "stream",
     "text": [
      "사\n"
     ]
    }
   ],
   "source": [
    "# 띠 계산\n",
    "# 생년을 12로 나눈 나머지\n",
    "# 0 - 원숭이, 1 - 닭, ..., 11 - 양\n",
    "animals = '신유술해자축인묘진사오미'\n",
    "print(animals[b_year % 12])"
   ]
  },
  {
   "cell_type": "code",
   "execution_count": 8,
   "metadata": {},
   "outputs": [
    {
     "name": "stdout",
     "output_type": "stream",
     "text": [
      "뱀\n"
     ]
    }
   ],
   "source": [
    "animals = '원숭이 닭 개 돼지 쥐 소 호랑이 토끼 용 뱀 말 양'.split()\n",
    "print(animals[b_year % 12])"
   ]
  },
  {
   "attachments": {},
   "cell_type": "markdown",
   "metadata": {},
   "source": [
    "- Q2. FizzBuzz, 15로 나우어지면 FizzBuzz, 3으로 나누어지면 Fizz, 5로 나누어지면 Buzz, 아니면 숫자"
   ]
  },
  {
   "cell_type": "code",
   "execution_count": 19,
   "metadata": {},
   "outputs": [
    {
     "name": "stdout",
     "output_type": "stream",
     "text": [
      "Buzz\n"
     ]
    }
   ],
   "source": [
    "num = int(input('양의 정수> '))\n",
    "if num % 15 == 0: \n",
    "    print('FizzBuzz')\n",
    "elif num % 5 == 0:\n",
    "    print('Buzz')\n",
    "elif num % 3 == 0:\n",
    "    print('Fizz')\n",
    "else:\n",
    "    print(f'{num}')"
   ]
  },
  {
   "cell_type": "code",
   "execution_count": 25,
   "metadata": {},
   "outputs": [
    {
     "name": "stdout",
     "output_type": "stream",
     "text": [
      "38 38\n"
     ]
    }
   ],
   "source": [
    "# 신박한 방법\n",
    "# short-circuit rule\n",
    "num = int(input('양의 정수> '))\n",
    "print(num, 'Fizz'*(num%3==0) + 'Buzz'*(num%5==0) or num)"
   ]
  },
  {
   "cell_type": "code",
   "execution_count": null,
   "metadata": {},
   "outputs": [],
   "source": []
  },
  {
   "cell_type": "code",
   "execution_count": null,
   "metadata": {},
   "outputs": [],
   "source": []
  }
 ],
 "metadata": {
  "kernelspec": {
   "display_name": "base",
   "language": "python",
   "name": "python3"
  },
  "language_info": {
   "codemirror_mode": {
    "name": "ipython",
    "version": 3
   },
   "file_extension": ".py",
   "mimetype": "text/x-python",
   "name": "python",
   "nbconvert_exporter": "python",
   "pygments_lexer": "ipython3",
   "version": "3.10.9"
  },
  "orig_nbformat": 4
 },
 "nbformat": 4,
 "nbformat_minor": 2
}
